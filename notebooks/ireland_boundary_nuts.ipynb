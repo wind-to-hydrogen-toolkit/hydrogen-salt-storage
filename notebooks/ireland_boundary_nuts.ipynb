{
 "cells": [
  {
   "attachments": {},
   "cell_type": "markdown",
   "metadata": {},
   "source": [
    "# NUTS (Nomenclature of territorial units for statistics)\n",
    "\n",
    "<https://ec.europa.eu/eurostat/web/gisco/geodata/reference-data/administrative-units-statistical-units/nuts>"
   ]
  },
  {
   "cell_type": "code",
   "execution_count": 3,
   "metadata": {},
   "outputs": [],
   "source": [
    "# import libraries\n",
    "import os\n",
    "from datetime import datetime, timezone\n",
    "from zipfile import BadZipFile, ZipFile\n",
    "import geopandas as gpd\n",
    "import matplotlib.pyplot as plt\n",
    "import pooch"
   ]
  },
  {
   "cell_type": "code",
   "execution_count": 30,
   "metadata": {},
   "outputs": [],
   "source": [
    "# base data download directory\n",
    "SUB_DIR = os.path.join(\"data\", \"boundaries\", \"NUTS2021\")\n",
    "os.makedirs(SUB_DIR, exist_ok=True)\n",
    "\n",
    "URL = (\n",
    "    \"https://gisco-services.ec.europa.eu/distribution/v2/nuts/download/\"\n",
    "    \"ref-nuts-2021-01m.shp.zip\"\n",
    ")\n",
    "KNOWN_HASH = None\n",
    "FILE_NAME = \"ref-nuts-2021-01m.shp.zip\"\n",
    "\n",
    "# file name for the GeoPackage where the boundary vector layers will be saved\n",
    "GPKG_BOUNDARY = os.path.join(\"data\", \"boundaries\", \"ref-nuts-2021-01m.gpkg\")\n",
    "\n",
    "DATA_DIR_TEMP = os.path.join(SUB_DIR, \"temp\")\n",
    "\n",
    "os.makedirs(DATA_DIR_TEMP, exist_ok=True)\n",
    "\n",
    "DATA_FILE = os.path.join(SUB_DIR, FILE_NAME)"
   ]
  },
  {
   "cell_type": "code",
   "execution_count": 5,
   "metadata": {},
   "outputs": [
    {
     "name": "stderr",
     "output_type": "stream",
     "text": [
      "Downloading data from 'https://gisco-services.ec.europa.eu/distribution/v2/nuts/download/ref-nuts-2021-01m.shp.zip' to file '/run/media/nms/Backup/Documents/Git/hydrogen-salt-storage-optimisation/data/boundaries/NUTS2021/ref-nuts-2021-01m.shp.zip'.\n",
      "SHA256 hash of downloaded file: 4d51d3778405a528573707d8318bf1cbfd1b0386a2fa69873524c2e6420f740b\n",
      "Use this value as the 'known_hash' argument of 'pooch.retrieve' to ensure that the file hasn't changed if it is downloaded again in the future.\n"
     ]
    }
   ],
   "source": [
    "# download data if necessary\n",
    "if not os.path.isfile(os.path.join(SUB_DIR, FILE_NAME)):\n",
    "    pooch.retrieve(\n",
    "        url=URL,\n",
    "        known_hash=KNOWN_HASH,\n",
    "        fname=FILE_NAME,\n",
    "        path=SUB_DIR\n",
    "    )\n",
    "\n",
    "    with open(\n",
    "        os.path.join(SUB_DIR, f\"{FILE_NAME[:-8]}.txt\"), \"w\", encoding=\"utf-8\"\n",
    "    ) as outfile:\n",
    "        outfile.write(\n",
    "            f\"Data downloaded on: {datetime.now(tz=timezone.utc)}\\n\"\n",
    "            f\"Download URL: {URL}\"\n",
    "        )"
   ]
  },
  {
   "cell_type": "code",
   "execution_count": 7,
   "metadata": {},
   "outputs": [
    {
     "data": {
      "text/plain": [
       "['NUTS_RG_01M_2021_3035.shp.zip',\n",
       " 'NUTS_RG_01M_2021_3035_LEVL_0.shp.zip',\n",
       " 'NUTS_RG_01M_2021_3035_LEVL_1.shp.zip',\n",
       " 'NUTS_RG_01M_2021_3035_LEVL_2.shp.zip',\n",
       " 'NUTS_RG_01M_2021_3035_LEVL_3.shp.zip',\n",
       " 'NUTS_RG_01M_2021_3857.shp.zip',\n",
       " 'NUTS_RG_01M_2021_3857_LEVL_0.shp.zip',\n",
       " 'NUTS_RG_01M_2021_3857_LEVL_1.shp.zip',\n",
       " 'NUTS_RG_01M_2021_3857_LEVL_2.shp.zip',\n",
       " 'NUTS_RG_01M_2021_3857_LEVL_3.shp.zip',\n",
       " 'NUTS_RG_01M_2021_4326.shp.zip',\n",
       " 'NUTS_RG_01M_2021_4326_LEVL_0.shp.zip',\n",
       " 'NUTS_RG_01M_2021_4326_LEVL_1.shp.zip',\n",
       " 'NUTS_RG_01M_2021_4326_LEVL_2.shp.zip',\n",
       " 'NUTS_RG_01M_2021_4326_LEVL_3.shp.zip',\n",
       " 'NUTS_LB_2021_3035.shp.zip',\n",
       " 'NUTS_LB_2021_3035_LEVL_0.shp.zip',\n",
       " 'NUTS_LB_2021_3035_LEVL_1.shp.zip',\n",
       " 'NUTS_LB_2021_3035_LEVL_2.shp.zip',\n",
       " 'NUTS_LB_2021_3035_LEVL_3.shp.zip',\n",
       " 'NUTS_LB_2021_3857.shp.zip',\n",
       " 'NUTS_LB_2021_3857_LEVL_0.shp.zip',\n",
       " 'NUTS_LB_2021_3857_LEVL_1.shp.zip',\n",
       " 'NUTS_LB_2021_3857_LEVL_2.shp.zip',\n",
       " 'NUTS_LB_2021_3857_LEVL_3.shp.zip',\n",
       " 'NUTS_LB_2021_4326.shp.zip',\n",
       " 'NUTS_LB_2021_4326_LEVL_0.shp.zip',\n",
       " 'NUTS_LB_2021_4326_LEVL_1.shp.zip',\n",
       " 'NUTS_LB_2021_4326_LEVL_2.shp.zip',\n",
       " 'NUTS_LB_2021_4326_LEVL_3.shp.zip',\n",
       " 'NUTS_BN_01M_2021_3035.shp.zip',\n",
       " 'NUTS_BN_01M_2021_3035_LEVL_0.shp.zip',\n",
       " 'NUTS_BN_01M_2021_3035_LEVL_1.shp.zip',\n",
       " 'NUTS_BN_01M_2021_3035_LEVL_2.shp.zip',\n",
       " 'NUTS_BN_01M_2021_3035_LEVL_3.shp.zip',\n",
       " 'NUTS_BN_01M_2021_3857.shp.zip',\n",
       " 'NUTS_BN_01M_2021_3857_LEVL_0.shp.zip',\n",
       " 'NUTS_BN_01M_2021_3857_LEVL_1.shp.zip',\n",
       " 'NUTS_BN_01M_2021_3857_LEVL_2.shp.zip',\n",
       " 'NUTS_BN_01M_2021_3857_LEVL_3.shp.zip',\n",
       " 'NUTS_BN_01M_2021_4326.shp.zip',\n",
       " 'NUTS_BN_01M_2021_4326_LEVL_0.shp.zip',\n",
       " 'NUTS_BN_01M_2021_4326_LEVL_1.shp.zip',\n",
       " 'NUTS_BN_01M_2021_4326_LEVL_2.shp.zip',\n",
       " 'NUTS_BN_01M_2021_4326_LEVL_3.shp.zip',\n",
       " 'NUTS_AT_2021.csv',\n",
       " 'NUTS_RG_BN_01M_2021.csv',\n",
       " 'metadata.pdf',\n",
       " 'metadata.xml',\n",
       " 'release-notes.txt']"
      ]
     },
     "execution_count": 7,
     "metadata": {},
     "output_type": "execute_result"
    }
   ],
   "source": [
    "ZipFile(DATA_FILE).namelist()"
   ]
  },
  {
   "cell_type": "code",
   "execution_count": 8,
   "metadata": {},
   "outputs": [],
   "source": [
    "# extract the archive\n",
    "try:\n",
    "    z = ZipFile(DATA_FILE)\n",
    "    z.extractall(DATA_DIR_TEMP)\n",
    "except BadZipFile:\n",
    "    print(\"There were issues with the file\", DATA_FILE)"
   ]
  },
  {
   "cell_type": "code",
   "execution_count": 9,
   "metadata": {},
   "outputs": [],
   "source": [
    "DATA_FILE = os.path.join(DATA_DIR_TEMP, \"NUTS_RG_01M_2021_4326_LEVL_2.shp.zip\")"
   ]
  },
  {
   "cell_type": "code",
   "execution_count": 10,
   "metadata": {},
   "outputs": [],
   "source": [
    "nuts2 = gpd.read_file(f\"zip://{DATA_FILE}!NUTS_RG_01M_2021_4326_LEVL_2.shp\")"
   ]
  },
  {
   "cell_type": "code",
   "execution_count": 11,
   "metadata": {},
   "outputs": [
    {
     "data": {
      "text/html": [
       "<div>\n",
       "<style scoped>\n",
       "    .dataframe tbody tr th:only-of-type {\n",
       "        vertical-align: middle;\n",
       "    }\n",
       "\n",
       "    .dataframe tbody tr th {\n",
       "        vertical-align: top;\n",
       "    }\n",
       "\n",
       "    .dataframe thead th {\n",
       "        text-align: right;\n",
       "    }\n",
       "</style>\n",
       "<table border=\"1\" class=\"dataframe\">\n",
       "  <thead>\n",
       "    <tr style=\"text-align: right;\">\n",
       "      <th></th>\n",
       "      <th>NUTS_ID</th>\n",
       "      <th>LEVL_CODE</th>\n",
       "      <th>CNTR_CODE</th>\n",
       "      <th>NAME_LATN</th>\n",
       "      <th>NUTS_NAME</th>\n",
       "      <th>MOUNT_TYPE</th>\n",
       "      <th>URBN_TYPE</th>\n",
       "      <th>COAST_TYPE</th>\n",
       "      <th>FID</th>\n",
       "      <th>geometry</th>\n",
       "    </tr>\n",
       "  </thead>\n",
       "  <tbody>\n",
       "    <tr>\n",
       "      <th>0</th>\n",
       "      <td>FRB0</td>\n",
       "      <td>2</td>\n",
       "      <td>FR</td>\n",
       "      <td>Centre — Val de Loire</td>\n",
       "      <td>Centre — Val de Loire</td>\n",
       "      <td>0.0</td>\n",
       "      <td>0</td>\n",
       "      <td>0</td>\n",
       "      <td>FRB0</td>\n",
       "      <td>POLYGON ((1.50153 48.94105, 1.51118 48.93461, ...</td>\n",
       "    </tr>\n",
       "    <tr>\n",
       "      <th>1</th>\n",
       "      <td>CZ04</td>\n",
       "      <td>2</td>\n",
       "      <td>CZ</td>\n",
       "      <td>Severozápad</td>\n",
       "      <td>Severozápad</td>\n",
       "      <td>0.0</td>\n",
       "      <td>0</td>\n",
       "      <td>0</td>\n",
       "      <td>CZ04</td>\n",
       "      <td>POLYGON ((14.49122 51.04353, 14.49945 51.04610...</td>\n",
       "    </tr>\n",
       "    <tr>\n",
       "      <th>2</th>\n",
       "      <td>CZ07</td>\n",
       "      <td>2</td>\n",
       "      <td>CZ</td>\n",
       "      <td>Střední Morava</td>\n",
       "      <td>Střední Morava</td>\n",
       "      <td>0.0</td>\n",
       "      <td>0</td>\n",
       "      <td>0</td>\n",
       "      <td>CZ07</td>\n",
       "      <td>POLYGON ((16.90792 50.44945, 16.92475 50.43939...</td>\n",
       "    </tr>\n",
       "    <tr>\n",
       "      <th>3</th>\n",
       "      <td>DK02</td>\n",
       "      <td>2</td>\n",
       "      <td>DK</td>\n",
       "      <td>Sjælland</td>\n",
       "      <td>Sjælland</td>\n",
       "      <td>0.0</td>\n",
       "      <td>0</td>\n",
       "      <td>0</td>\n",
       "      <td>DK02</td>\n",
       "      <td>MULTIPOLYGON (((12.27222 55.05490, 12.28522 55...</td>\n",
       "    </tr>\n",
       "    <tr>\n",
       "      <th>4</th>\n",
       "      <td>ES12</td>\n",
       "      <td>2</td>\n",
       "      <td>ES</td>\n",
       "      <td>Principado de Asturias</td>\n",
       "      <td>Principado de Asturias</td>\n",
       "      <td>0.0</td>\n",
       "      <td>0</td>\n",
       "      <td>0</td>\n",
       "      <td>ES12</td>\n",
       "      <td>MULTIPOLYGON (((-4.51230 43.39320, -4.51142 43...</td>\n",
       "    </tr>\n",
       "  </tbody>\n",
       "</table>\n",
       "</div>"
      ],
      "text/plain": [
       "  NUTS_ID  LEVL_CODE CNTR_CODE               NAME_LATN  \\\n",
       "0    FRB0          2        FR   Centre — Val de Loire   \n",
       "1    CZ04          2        CZ             Severozápad   \n",
       "2    CZ07          2        CZ          Střední Morava   \n",
       "3    DK02          2        DK                Sjælland   \n",
       "4    ES12          2        ES  Principado de Asturias   \n",
       "\n",
       "                NUTS_NAME  MOUNT_TYPE  URBN_TYPE  COAST_TYPE   FID  \\\n",
       "0   Centre — Val de Loire         0.0          0           0  FRB0   \n",
       "1             Severozápad         0.0          0           0  CZ04   \n",
       "2          Střední Morava         0.0          0           0  CZ07   \n",
       "3                Sjælland         0.0          0           0  DK02   \n",
       "4  Principado de Asturias         0.0          0           0  ES12   \n",
       "\n",
       "                                            geometry  \n",
       "0  POLYGON ((1.50153 48.94105, 1.51118 48.93461, ...  \n",
       "1  POLYGON ((14.49122 51.04353, 14.49945 51.04610...  \n",
       "2  POLYGON ((16.90792 50.44945, 16.92475 50.43939...  \n",
       "3  MULTIPOLYGON (((12.27222 55.05490, 12.28522 55...  \n",
       "4  MULTIPOLYGON (((-4.51230 43.39320, -4.51142 43...  "
      ]
     },
     "execution_count": 11,
     "metadata": {},
     "output_type": "execute_result"
    }
   ],
   "source": [
    "nuts2.head()"
   ]
  },
  {
   "cell_type": "code",
   "execution_count": 12,
   "metadata": {},
   "outputs": [],
   "source": [
    "nuts2 = nuts2[nuts2[\"NUTS_ID\"].str.contains(\"IE|UKN\")]"
   ]
  },
  {
   "cell_type": "code",
   "execution_count": 13,
   "metadata": {},
   "outputs": [
    {
     "data": {
      "text/html": [
       "<div>\n",
       "<style scoped>\n",
       "    .dataframe tbody tr th:only-of-type {\n",
       "        vertical-align: middle;\n",
       "    }\n",
       "\n",
       "    .dataframe tbody tr th {\n",
       "        vertical-align: top;\n",
       "    }\n",
       "\n",
       "    .dataframe thead th {\n",
       "        text-align: right;\n",
       "    }\n",
       "</style>\n",
       "<table border=\"1\" class=\"dataframe\">\n",
       "  <thead>\n",
       "    <tr style=\"text-align: right;\">\n",
       "      <th></th>\n",
       "      <th>NUTS_ID</th>\n",
       "      <th>LEVL_CODE</th>\n",
       "      <th>CNTR_CODE</th>\n",
       "      <th>NAME_LATN</th>\n",
       "      <th>NUTS_NAME</th>\n",
       "      <th>MOUNT_TYPE</th>\n",
       "      <th>URBN_TYPE</th>\n",
       "      <th>COAST_TYPE</th>\n",
       "      <th>FID</th>\n",
       "      <th>geometry</th>\n",
       "    </tr>\n",
       "  </thead>\n",
       "  <tbody>\n",
       "    <tr>\n",
       "      <th>185</th>\n",
       "      <td>IE06</td>\n",
       "      <td>2</td>\n",
       "      <td>IE</td>\n",
       "      <td>Eastern and Midland</td>\n",
       "      <td>Eastern and Midland</td>\n",
       "      <td>0.0</td>\n",
       "      <td>0</td>\n",
       "      <td>0</td>\n",
       "      <td>IE06</td>\n",
       "      <td>MULTIPOLYGON (((-6.00177 53.49551, -5.99821 53...</td>\n",
       "    </tr>\n",
       "    <tr>\n",
       "      <th>252</th>\n",
       "      <td>IE04</td>\n",
       "      <td>2</td>\n",
       "      <td>IE</td>\n",
       "      <td>Northern and Western</td>\n",
       "      <td>Northern and Western</td>\n",
       "      <td>0.0</td>\n",
       "      <td>0</td>\n",
       "      <td>0</td>\n",
       "      <td>IE04</td>\n",
       "      <td>MULTIPOLYGON (((-7.25607 55.06703, -7.26560 55...</td>\n",
       "    </tr>\n",
       "    <tr>\n",
       "      <th>256</th>\n",
       "      <td>UKN0</td>\n",
       "      <td>2</td>\n",
       "      <td>UK</td>\n",
       "      <td>Northern Ireland</td>\n",
       "      <td>Northern Ireland</td>\n",
       "      <td>0.0</td>\n",
       "      <td>0</td>\n",
       "      <td>0</td>\n",
       "      <td>UKN0</td>\n",
       "      <td>MULTIPOLYGON (((-5.97653 55.05660, -5.96650 55...</td>\n",
       "    </tr>\n",
       "    <tr>\n",
       "      <th>259</th>\n",
       "      <td>IE05</td>\n",
       "      <td>2</td>\n",
       "      <td>IE</td>\n",
       "      <td>Southern</td>\n",
       "      <td>Southern</td>\n",
       "      <td>0.0</td>\n",
       "      <td>0</td>\n",
       "      <td>0</td>\n",
       "      <td>IE05</td>\n",
       "      <td>MULTIPOLYGON (((-9.00931 53.14082, -9.02484 53...</td>\n",
       "    </tr>\n",
       "  </tbody>\n",
       "</table>\n",
       "</div>"
      ],
      "text/plain": [
       "    NUTS_ID  LEVL_CODE CNTR_CODE             NAME_LATN             NUTS_NAME  \\\n",
       "185    IE06          2        IE   Eastern and Midland   Eastern and Midland   \n",
       "252    IE04          2        IE  Northern and Western  Northern and Western   \n",
       "256    UKN0          2        UK      Northern Ireland      Northern Ireland   \n",
       "259    IE05          2        IE              Southern              Southern   \n",
       "\n",
       "     MOUNT_TYPE  URBN_TYPE  COAST_TYPE   FID  \\\n",
       "185         0.0          0           0  IE06   \n",
       "252         0.0          0           0  IE04   \n",
       "256         0.0          0           0  UKN0   \n",
       "259         0.0          0           0  IE05   \n",
       "\n",
       "                                              geometry  \n",
       "185  MULTIPOLYGON (((-6.00177 53.49551, -5.99821 53...  \n",
       "252  MULTIPOLYGON (((-7.25607 55.06703, -7.26560 55...  \n",
       "256  MULTIPOLYGON (((-5.97653 55.05660, -5.96650 55...  \n",
       "259  MULTIPOLYGON (((-9.00931 53.14082, -9.02484 53...  "
      ]
     },
     "execution_count": 13,
     "metadata": {},
     "output_type": "execute_result"
    }
   ],
   "source": [
    "nuts2"
   ]
  },
  {
   "cell_type": "code",
   "execution_count": 14,
   "metadata": {},
   "outputs": [
    {
     "data": {
      "text/plain": [
       "array([-10.66,  51.42,  -5.43,  55.44])"
      ]
     },
     "execution_count": 14,
     "metadata": {},
     "output_type": "execute_result"
    }
   ],
   "source": [
    "nuts2.total_bounds.round(2)"
   ]
  },
  {
   "cell_type": "markdown",
   "metadata": {},
   "source": [
    "## Island of Ireland boundary"
   ]
  },
  {
   "cell_type": "code",
   "execution_count": 22,
   "metadata": {},
   "outputs": [],
   "source": [
    "ie = nuts2.copy()"
   ]
  },
  {
   "cell_type": "code",
   "execution_count": 23,
   "metadata": {},
   "outputs": [],
   "source": [
    "ie = ie.dissolve(by=\"LEVL_CODE\", as_index=False)"
   ]
  },
  {
   "cell_type": "code",
   "execution_count": 24,
   "metadata": {},
   "outputs": [],
   "source": [
    "ie = ie[[\"geometry\"]]"
   ]
  },
  {
   "cell_type": "code",
   "execution_count": 25,
   "metadata": {},
   "outputs": [],
   "source": [
    "ie = ie.assign(NAME=\"Ireland\")"
   ]
  },
  {
   "cell_type": "code",
   "execution_count": 26,
   "metadata": {},
   "outputs": [],
   "source": [
    "DESCRIPTION = (\n",
    "    \"Boundary for the Island of Ireland generated using NUTS 2021 Level 1 \"\n",
    "    \"boundaries\"\n",
    ")\n",
    "\n",
    "ie = ie.assign(DESCRIPTION=DESCRIPTION)"
   ]
  },
  {
   "cell_type": "code",
   "execution_count": 27,
   "metadata": {},
   "outputs": [
    {
     "data": {
      "text/html": [
       "<div>\n",
       "<style scoped>\n",
       "    .dataframe tbody tr th:only-of-type {\n",
       "        vertical-align: middle;\n",
       "    }\n",
       "\n",
       "    .dataframe tbody tr th {\n",
       "        vertical-align: top;\n",
       "    }\n",
       "\n",
       "    .dataframe thead th {\n",
       "        text-align: right;\n",
       "    }\n",
       "</style>\n",
       "<table border=\"1\" class=\"dataframe\">\n",
       "  <thead>\n",
       "    <tr style=\"text-align: right;\">\n",
       "      <th></th>\n",
       "      <th>geometry</th>\n",
       "      <th>NAME</th>\n",
       "      <th>DESCRIPTION</th>\n",
       "    </tr>\n",
       "  </thead>\n",
       "  <tbody>\n",
       "    <tr>\n",
       "      <th>0</th>\n",
       "      <td>MULTIPOLYGON (((-10.18425 51.60914, -10.17367 ...</td>\n",
       "      <td>Ireland</td>\n",
       "      <td>Boundary for the Island of Ireland generated u...</td>\n",
       "    </tr>\n",
       "  </tbody>\n",
       "</table>\n",
       "</div>"
      ],
      "text/plain": [
       "                                            geometry     NAME  \\\n",
       "0  MULTIPOLYGON (((-10.18425 51.60914, -10.17367 ...  Ireland   \n",
       "\n",
       "                                         DESCRIPTION  \n",
       "0  Boundary for the Island of Ireland generated u...  "
      ]
     },
     "execution_count": 27,
     "metadata": {},
     "output_type": "execute_result"
    }
   ],
   "source": [
    "ie"
   ]
  },
  {
   "cell_type": "code",
   "execution_count": 29,
   "metadata": {},
   "outputs": [
    {
     "data": {
      "image/png": "[encoded data removed]",
      "text/plain": [
       "<Figure size 720x720 with 1 Axes>"
      ]
     },
     "metadata": {},
     "output_type": "display_data"
    }
   ],
   "source": [
    "ie.plot(\n",
    "    color=\"navajowhite\", figsize=(7.5, 7.5),\n",
    "    edgecolor=\"darkslategrey\", linewidth=.4\n",
    ")\n",
    "\n",
    "plt.title(\"Boundary of the Island of Ireland\")\n",
    "plt.text(\n",
    "    -8.75, 51.275,\n",
    "    \"© EuroGeographics for the administrative boundaries\"\n",
    ")\n",
    "plt.tick_params(labelbottom=False, labelleft=False)\n",
    "plt.tight_layout()\n",
    "plt.show()"
   ]
  },
  {
   "cell_type": "code",
   "execution_count": 31,
   "metadata": {},
   "outputs": [],
   "source": [
    "ie.to_file(GPKG_BOUNDARY, layer=\"NUTS_RG_01M_2021_4326_IE\")"
   ]
  },
  {
   "attachments": {},
   "cell_type": "markdown",
   "metadata": {},
   "source": [
    "## Island of Ireland boundary in Irish transverse mercator\n",
    "\n",
    "Useful for plotting\n",
    "\n",
    "EPSG:2157\n",
    "\n",
    "See <https://www.gov.uk/government/publications/uk-geospatial-data-standards-register/national-geospatial-data-standards-register#standards-for-coordinate-reference-systems>"
   ]
  },
  {
   "cell_type": "code",
   "execution_count": 32,
   "metadata": {},
   "outputs": [],
   "source": [
    "ie.to_crs(2157, inplace=True)"
   ]
  },
  {
   "cell_type": "code",
   "execution_count": 33,
   "metadata": {},
   "outputs": [
    {
     "data": {
      "text/html": [
       "<div>\n",
       "<style scoped>\n",
       "    .dataframe tbody tr th:only-of-type {\n",
       "        vertical-align: middle;\n",
       "    }\n",
       "\n",
       "    .dataframe tbody tr th {\n",
       "        vertical-align: top;\n",
       "    }\n",
       "\n",
       "    .dataframe thead th {\n",
       "        text-align: right;\n",
       "    }\n",
       "</style>\n",
       "<table border=\"1\" class=\"dataframe\">\n",
       "  <thead>\n",
       "    <tr style=\"text-align: right;\">\n",
       "      <th></th>\n",
       "      <th>geometry</th>\n",
       "      <th>NAME</th>\n",
       "      <th>DESCRIPTION</th>\n",
       "    </tr>\n",
       "  </thead>\n",
       "  <tbody>\n",
       "    <tr>\n",
       "      <th>0</th>\n",
       "      <td>MULTIPOLYGON (((448722.913 541888.069, 449455....</td>\n",
       "      <td>Ireland</td>\n",
       "      <td>Boundary for the Island of Ireland generated u...</td>\n",
       "    </tr>\n",
       "  </tbody>\n",
       "</table>\n",
       "</div>"
      ],
      "text/plain": [
       "                                            geometry     NAME  \\\n",
       "0  MULTIPOLYGON (((448722.913 541888.069, 449455....  Ireland   \n",
       "\n",
       "                                         DESCRIPTION  \n",
       "0  Boundary for the Island of Ireland generated u...  "
      ]
     },
     "execution_count": 33,
     "metadata": {},
     "output_type": "execute_result"
    }
   ],
   "source": [
    "ie"
   ]
  },
  {
   "cell_type": "code",
   "execution_count": 35,
   "metadata": {},
   "outputs": [],
   "source": [
    "ie.to_file(GPKG_BOUNDARY, layer=\"NUTS_RG_01M_2021_2157_IE\")"
   ]
  }
 ],
 "metadata": {
  "kernelspec": {
   "display_name": "Python 3.10.6 ('ClimAg')",
   "language": "python",
   "name": "python3"
  },
  "language_info": {
   "codemirror_mode": {
    "name": "ipython",
    "version": 3
   },
   "file_extension": ".py",
   "mimetype": "text/x-python",
   "name": "python",
   "nbconvert_exporter": "python",
   "pygments_lexer": "ipython3",
   "version": "3.11.5"
  },
  "orig_nbformat": 4,
  "vscode": {
   "interpreter": {
    "hash": "c4e659d1bedfc73d1fd31d7c0e2c79d7cc7aac22204994016c65a9e44686eb91"
   }
  }
 },
 "nbformat": 4,
 "nbformat_minor": 2
}
