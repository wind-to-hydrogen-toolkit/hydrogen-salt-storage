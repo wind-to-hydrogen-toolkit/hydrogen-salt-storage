{
 "cells": [
  {
   "attachments": {},
   "cell_type": "markdown",
   "metadata": {},
   "source": [
    "# NUTS (Nomenclature of territorial units for statistics)\n",
    "\n",
    "<https://ec.europa.eu/eurostat/web/gisco/geodata/reference-data/administrative-units-statistical-units/nuts>"
   ]
  },
  {
   "cell_type": "code",
   "execution_count": 1,
   "metadata": {},
   "outputs": [],
   "source": [
    "# import libraries\n",
    "import os\n",
    "from datetime import datetime, timezone\n",
    "from zipfile import BadZipFile, ZipFile\n",
    "import geopandas as gpd\n",
    "import matplotlib.pyplot as plt\n",
    "import pooch"
   ]
  },
  {
   "cell_type": "code",
   "execution_count": 2,
   "metadata": {},
   "outputs": [],
   "source": [
    "# base data download directory\n",
    "DATA_DIR = os.path.join(\"data\", \"boundaries\", \"NUTS2021\")\n",
    "os.makedirs(DATA_DIR, exist_ok=True)\n",
    "\n",
    "URL = (\n",
    "    \"https://gisco-services.ec.europa.eu/distribution/v2/nuts/download/\"\n",
    "    \"ref-nuts-2021-01m.shp.zip\"\n",
    ")\n",
    "KNOWN_HASH = None\n",
    "FILE_NAME = \"ref-nuts-2021-01m.shp.zip\"\n",
    "\n",
    "# file name for the GeoPackage where the boundary vector layer will be saved\n",
    "GPKG_BOUNDARY = os.path.join(\"data\", \"boundaries.gpkg\")\n",
    "\n",
    "DATA_DIR_TEMP = os.path.join(DATA_DIR, \"temp\")\n",
    "\n",
    "os.makedirs(DATA_DIR_TEMP, exist_ok=True)\n",
    "\n",
    "DATA_FILE = os.path.join(DATA_DIR, FILE_NAME)"
   ]
  },
  {
   "cell_type": "code",
   "execution_count": 5,
   "metadata": {},
   "outputs": [
    {
     "name": "stderr",
     "output_type": "stream",
     "text": [
      "Downloading data from 'https://gisco-services.ec.europa.eu/distribution/v2/nuts/download/ref-nuts-2021-01m.shp.zip' to file '/run/media/nms/Backup/Documents/Git/hydrogen-salt-storage-optimisation/data/boundaries/NUTS2021/ref-nuts-2021-01m.shp.zip'.\n",
      "SHA256 hash of downloaded file: 4d51d3778405a528573707d8318bf1cbfd1b0386a2fa69873524c2e6420f740b\n",
      "Use this value as the 'known_hash' argument of 'pooch.retrieve' to ensure that the file hasn't changed if it is downloaded again in the future.\n"
     ]
    }
   ],
   "source": [
    "# download data if necessary\n",
    "if not os.path.isfile(DATA_FILE):\n",
    "    pooch.retrieve(\n",
    "        url=URL,\n",
    "        known_hash=KNOWN_HASH,\n",
    "        fname=FILE_NAME,\n",
    "        path=DATA_DIR\n",
    "    )\n",
    "\n",
    "    with open(f\"{DATA_FILE[:-8]}.txt\", \"w\", encoding=\"utf-8\") as outfile:\n",
    "        outfile.write(\n",
    "            f\"Data downloaded on: {datetime.now(tz=timezone.utc)}\\n\"\n",
    "            f\"Download URL: {URL}\"\n",
    "        )"
   ]
  },
  {
   "cell_type": "code",
   "execution_count": 7,
   "metadata": {},
   "outputs": [
    {
     "data": {
      "text/plain": [
       "['NUTS_RG_01M_2021_3035.shp.zip',\n",
       " 'NUTS_RG_01M_2021_3035_LEVL_0.shp.zip',\n",
       " 'NUTS_RG_01M_2021_3035_LEVL_1.shp.zip',\n",
       " 'NUTS_RG_01M_2021_3035_LEVL_2.shp.zip',\n",
       " 'NUTS_RG_01M_2021_3035_LEVL_3.shp.zip',\n",
       " 'NUTS_RG_01M_2021_3857.shp.zip',\n",
       " 'NUTS_RG_01M_2021_3857_LEVL_0.shp.zip',\n",
       " 'NUTS_RG_01M_2021_3857_LEVL_1.shp.zip',\n",
       " 'NUTS_RG_01M_2021_3857_LEVL_2.shp.zip',\n",
       " 'NUTS_RG_01M_2021_3857_LEVL_3.shp.zip',\n",
       " 'NUTS_RG_01M_2021_4326.shp.zip',\n",
       " 'NUTS_RG_01M_2021_4326_LEVL_0.shp.zip',\n",
       " 'NUTS_RG_01M_2021_4326_LEVL_1.shp.zip',\n",
       " 'NUTS_RG_01M_2021_4326_LEVL_2.shp.zip',\n",
       " 'NUTS_RG_01M_2021_4326_LEVL_3.shp.zip',\n",
       " 'NUTS_LB_2021_3035.shp.zip',\n",
       " 'NUTS_LB_2021_3035_LEVL_0.shp.zip',\n",
       " 'NUTS_LB_2021_3035_LEVL_1.shp.zip',\n",
       " 'NUTS_LB_2021_3035_LEVL_2.shp.zip',\n",
       " 'NUTS_LB_2021_3035_LEVL_3.shp.zip',\n",
       " 'NUTS_LB_2021_3857.shp.zip',\n",
       " 'NUTS_LB_2021_3857_LEVL_0.shp.zip',\n",
       " 'NUTS_LB_2021_3857_LEVL_1.shp.zip',\n",
       " 'NUTS_LB_2021_3857_LEVL_2.shp.zip',\n",
       " 'NUTS_LB_2021_3857_LEVL_3.shp.zip',\n",
       " 'NUTS_LB_2021_4326.shp.zip',\n",
       " 'NUTS_LB_2021_4326_LEVL_0.shp.zip',\n",
       " 'NUTS_LB_2021_4326_LEVL_1.shp.zip',\n",
       " 'NUTS_LB_2021_4326_LEVL_2.shp.zip',\n",
       " 'NUTS_LB_2021_4326_LEVL_3.shp.zip',\n",
       " 'NUTS_BN_01M_2021_3035.shp.zip',\n",
       " 'NUTS_BN_01M_2021_3035_LEVL_0.shp.zip',\n",
       " 'NUTS_BN_01M_2021_3035_LEVL_1.shp.zip',\n",
       " 'NUTS_BN_01M_2021_3035_LEVL_2.shp.zip',\n",
       " 'NUTS_BN_01M_2021_3035_LEVL_3.shp.zip',\n",
       " 'NUTS_BN_01M_2021_3857.shp.zip',\n",
       " 'NUTS_BN_01M_2021_3857_LEVL_0.shp.zip',\n",
       " 'NUTS_BN_01M_2021_3857_LEVL_1.shp.zip',\n",
       " 'NUTS_BN_01M_2021_3857_LEVL_2.shp.zip',\n",
       " 'NUTS_BN_01M_2021_3857_LEVL_3.shp.zip',\n",
       " 'NUTS_BN_01M_2021_4326.shp.zip',\n",
       " 'NUTS_BN_01M_2021_4326_LEVL_0.shp.zip',\n",
       " 'NUTS_BN_01M_2021_4326_LEVL_1.shp.zip',\n",
       " 'NUTS_BN_01M_2021_4326_LEVL_2.shp.zip',\n",
       " 'NUTS_BN_01M_2021_4326_LEVL_3.shp.zip',\n",
       " 'NUTS_AT_2021.csv',\n",
       " 'NUTS_RG_BN_01M_2021.csv',\n",
       " 'metadata.pdf',\n",
       " 'metadata.xml',\n",
       " 'release-notes.txt']"
      ]
     },
     "execution_count": 7,
     "metadata": {},
     "output_type": "execute_result"
    }
   ],
   "source": [
    "ZipFile(DATA_FILE).namelist()"
   ]
  },
  {
   "cell_type": "code",
   "execution_count": 8,
   "metadata": {},
   "outputs": [],
   "source": [
    "# extract the archive\n",
    "try:\n",
    "    z = ZipFile(DATA_FILE)\n",
    "    z.extractall(DATA_DIR_TEMP)\n",
    "except BadZipFile:\n",
    "    print(\"There were issues with the file\", DATA_FILE)"
   ]
  },
  {
   "cell_type": "code",
   "execution_count": 3,
   "metadata": {},
   "outputs": [],
   "source": [
    "DATA_FILE = os.path.join(DATA_DIR_TEMP, \"NUTS_RG_01M_2021_4326_LEVL_1.shp.zip\")"
   ]
  },
  {
   "cell_type": "code",
   "execution_count": 6,
   "metadata": {},
   "outputs": [
    {
     "data": {
      "text/plain": [
       "['NUTS_RG_01M_2021_4326_LEVL_1.cpg',\n",
       " 'NUTS_RG_01M_2021_4326_LEVL_1.dbf',\n",
       " 'NUTS_RG_01M_2021_4326_LEVL_1.prj',\n",
       " 'NUTS_RG_01M_2021_4326_LEVL_1.shp',\n",
       " 'NUTS_RG_01M_2021_4326_LEVL_1.shx']"
      ]
     },
     "execution_count": 6,
     "metadata": {},
     "output_type": "execute_result"
    }
   ],
   "source": [
    "ZipFile(DATA_FILE).namelist()"
   ]
  },
  {
   "cell_type": "code",
   "execution_count": 4,
   "metadata": {},
   "outputs": [],
   "source": [
    "nuts = gpd.read_file(f\"zip://{DATA_FILE}!NUTS_RG_01M_2021_4326_LEVL_1.shp\")"
   ]
  },
  {
   "cell_type": "code",
   "execution_count": 5,
   "metadata": {},
   "outputs": [
    {
     "data": {
      "text/html": [
       "<div>\n",
       "<style scoped>\n",
       "    .dataframe tbody tr th:only-of-type {\n",
       "        vertical-align: middle;\n",
       "    }\n",
       "\n",
       "    .dataframe tbody tr th {\n",
       "        vertical-align: top;\n",
       "    }\n",
       "\n",
       "    .dataframe thead th {\n",
       "        text-align: right;\n",
       "    }\n",
       "</style>\n",
       "<table border=\"1\" class=\"dataframe\">\n",
       "  <thead>\n",
       "    <tr style=\"text-align: right;\">\n",
       "      <th></th>\n",
       "      <th>NUTS_ID</th>\n",
       "      <th>LEVL_CODE</th>\n",
       "      <th>CNTR_CODE</th>\n",
       "      <th>NAME_LATN</th>\n",
       "      <th>NUTS_NAME</th>\n",
       "      <th>MOUNT_TYPE</th>\n",
       "      <th>URBN_TYPE</th>\n",
       "      <th>COAST_TYPE</th>\n",
       "      <th>FID</th>\n",
       "      <th>geometry</th>\n",
       "    </tr>\n",
       "  </thead>\n",
       "  <tbody>\n",
       "    <tr>\n",
       "      <th>0</th>\n",
       "      <td>CY0</td>\n",
       "      <td>1</td>\n",
       "      <td>CY</td>\n",
       "      <td>Kýpros</td>\n",
       "      <td>Κύπρος</td>\n",
       "      <td>0</td>\n",
       "      <td>0</td>\n",
       "      <td>0</td>\n",
       "      <td>CY0</td>\n",
       "      <td>MULTIPOLYGON (((34.60609 35.70767, 34.60060 35...</td>\n",
       "    </tr>\n",
       "    <tr>\n",
       "      <th>1</th>\n",
       "      <td>DEA</td>\n",
       "      <td>1</td>\n",
       "      <td>DE</td>\n",
       "      <td>Nordrhein-Westfalen</td>\n",
       "      <td>Nordrhein-Westfalen</td>\n",
       "      <td>0</td>\n",
       "      <td>0</td>\n",
       "      <td>0</td>\n",
       "      <td>DEA</td>\n",
       "      <td>POLYGON ((8.70301 52.50044, 8.69906 52.48690, ...</td>\n",
       "    </tr>\n",
       "    <tr>\n",
       "      <th>2</th>\n",
       "      <td>CH0</td>\n",
       "      <td>1</td>\n",
       "      <td>CH</td>\n",
       "      <td>Schweiz/Suisse/Svizzera</td>\n",
       "      <td>Schweiz/Suisse/Svizzera</td>\n",
       "      <td>0</td>\n",
       "      <td>0</td>\n",
       "      <td>0</td>\n",
       "      <td>CH0</td>\n",
       "      <td>POLYGON ((8.61383 47.80108, 8.62155 47.79372, ...</td>\n",
       "    </tr>\n",
       "    <tr>\n",
       "      <th>3</th>\n",
       "      <td>FRE</td>\n",
       "      <td>1</td>\n",
       "      <td>FR</td>\n",
       "      <td>Hauts-de-France</td>\n",
       "      <td>Hauts-de-France</td>\n",
       "      <td>0</td>\n",
       "      <td>0</td>\n",
       "      <td>0</td>\n",
       "      <td>FRE</td>\n",
       "      <td>MULTIPOLYGON (((2.60704 50.91269, 2.60665 50.9...</td>\n",
       "    </tr>\n",
       "    <tr>\n",
       "      <th>4</th>\n",
       "      <td>BG3</td>\n",
       "      <td>1</td>\n",
       "      <td>BG</td>\n",
       "      <td>Severna i Yugoiztochna Bulgaria</td>\n",
       "      <td>Северна и Югоизточна България</td>\n",
       "      <td>0</td>\n",
       "      <td>0</td>\n",
       "      <td>0</td>\n",
       "      <td>BG3</td>\n",
       "      <td>POLYGON ((22.67516 44.21566, 22.69084 44.20456...</td>\n",
       "    </tr>\n",
       "  </tbody>\n",
       "</table>\n",
       "</div>"
      ],
      "text/plain": [
       "  NUTS_ID  LEVL_CODE CNTR_CODE                        NAME_LATN  \\\n",
       "0     CY0          1        CY                           Kýpros   \n",
       "1     DEA          1        DE              Nordrhein-Westfalen   \n",
       "2     CH0          1        CH          Schweiz/Suisse/Svizzera   \n",
       "3     FRE          1        FR                  Hauts-de-France   \n",
       "4     BG3          1        BG  Severna i Yugoiztochna Bulgaria   \n",
       "\n",
       "                       NUTS_NAME  MOUNT_TYPE  URBN_TYPE  COAST_TYPE  FID  \\\n",
       "0                         Κύπρος           0          0           0  CY0   \n",
       "1            Nordrhein-Westfalen           0          0           0  DEA   \n",
       "2        Schweiz/Suisse/Svizzera           0          0           0  CH0   \n",
       "3                Hauts-de-France           0          0           0  FRE   \n",
       "4  Северна и Югоизточна България           0          0           0  BG3   \n",
       "\n",
       "                                            geometry  \n",
       "0  MULTIPOLYGON (((34.60609 35.70767, 34.60060 35...  \n",
       "1  POLYGON ((8.70301 52.50044, 8.69906 52.48690, ...  \n",
       "2  POLYGON ((8.61383 47.80108, 8.62155 47.79372, ...  \n",
       "3  MULTIPOLYGON (((2.60704 50.91269, 2.60665 50.9...  \n",
       "4  POLYGON ((22.67516 44.21566, 22.69084 44.20456...  "
      ]
     },
     "execution_count": 5,
     "metadata": {},
     "output_type": "execute_result"
    }
   ],
   "source": [
    "nuts.head()"
   ]
  },
  {
   "cell_type": "code",
   "execution_count": 7,
   "metadata": {},
   "outputs": [
    {
     "data": {
      "text/plain": [
       "<Geographic 2D CRS: EPSG:4326>\n",
       "Name: WGS 84\n",
       "Axis Info [ellipsoidal]:\n",
       "- Lat[north]: Geodetic latitude (degree)\n",
       "- Lon[east]: Geodetic longitude (degree)\n",
       "Area of Use:\n",
       "- name: World.\n",
       "- bounds: (-180.0, -90.0, 180.0, 90.0)\n",
       "Datum: World Geodetic System 1984 ensemble\n",
       "- Ellipsoid: WGS 84\n",
       "- Prime Meridian: Greenwich"
      ]
     },
     "execution_count": 7,
     "metadata": {},
     "output_type": "execute_result"
    }
   ],
   "source": [
    "nuts.crs"
   ]
  },
  {
   "cell_type": "code",
   "execution_count": 8,
   "metadata": {},
   "outputs": [],
   "source": [
    "nuts = nuts[nuts[\"NUTS_ID\"].str.contains(\"IE0|UKN\")]"
   ]
  },
  {
   "cell_type": "code",
   "execution_count": 9,
   "metadata": {},
   "outputs": [
    {
     "data": {
      "text/html": [
       "<div>\n",
       "<style scoped>\n",
       "    .dataframe tbody tr th:only-of-type {\n",
       "        vertical-align: middle;\n",
       "    }\n",
       "\n",
       "    .dataframe tbody tr th {\n",
       "        vertical-align: top;\n",
       "    }\n",
       "\n",
       "    .dataframe thead th {\n",
       "        text-align: right;\n",
       "    }\n",
       "</style>\n",
       "<table border=\"1\" class=\"dataframe\">\n",
       "  <thead>\n",
       "    <tr style=\"text-align: right;\">\n",
       "      <th></th>\n",
       "      <th>NUTS_ID</th>\n",
       "      <th>LEVL_CODE</th>\n",
       "      <th>CNTR_CODE</th>\n",
       "      <th>NAME_LATN</th>\n",
       "      <th>NUTS_NAME</th>\n",
       "      <th>MOUNT_TYPE</th>\n",
       "      <th>URBN_TYPE</th>\n",
       "      <th>COAST_TYPE</th>\n",
       "      <th>FID</th>\n",
       "      <th>geometry</th>\n",
       "    </tr>\n",
       "  </thead>\n",
       "  <tbody>\n",
       "    <tr>\n",
       "      <th>67</th>\n",
       "      <td>IE0</td>\n",
       "      <td>1</td>\n",
       "      <td>IE</td>\n",
       "      <td>Ireland</td>\n",
       "      <td>Ireland</td>\n",
       "      <td>0</td>\n",
       "      <td>0</td>\n",
       "      <td>0</td>\n",
       "      <td>IE0</td>\n",
       "      <td>MULTIPOLYGON (((-6.00177 53.49551, -5.99821 53...</td>\n",
       "    </tr>\n",
       "    <tr>\n",
       "      <th>82</th>\n",
       "      <td>UKN</td>\n",
       "      <td>1</td>\n",
       "      <td>UK</td>\n",
       "      <td>Northern Ireland</td>\n",
       "      <td>Northern Ireland</td>\n",
       "      <td>0</td>\n",
       "      <td>0</td>\n",
       "      <td>0</td>\n",
       "      <td>UKN</td>\n",
       "      <td>MULTIPOLYGON (((-5.97653 55.05660, -5.96650 55...</td>\n",
       "    </tr>\n",
       "  </tbody>\n",
       "</table>\n",
       "</div>"
      ],
      "text/plain": [
       "   NUTS_ID  LEVL_CODE CNTR_CODE         NAME_LATN         NUTS_NAME  \\\n",
       "67     IE0          1        IE           Ireland           Ireland   \n",
       "82     UKN          1        UK  Northern Ireland  Northern Ireland   \n",
       "\n",
       "    MOUNT_TYPE  URBN_TYPE  COAST_TYPE  FID  \\\n",
       "67           0          0           0  IE0   \n",
       "82           0          0           0  UKN   \n",
       "\n",
       "                                             geometry  \n",
       "67  MULTIPOLYGON (((-6.00177 53.49551, -5.99821 53...  \n",
       "82  MULTIPOLYGON (((-5.97653 55.05660, -5.96650 55...  "
      ]
     },
     "execution_count": 9,
     "metadata": {},
     "output_type": "execute_result"
    }
   ],
   "source": [
    "nuts"
   ]
  },
  {
   "cell_type": "code",
   "execution_count": 10,
   "metadata": {},
   "outputs": [
    {
     "data": {
      "text/plain": [
       "array([-10.66,  51.42,  -5.43,  55.44])"
      ]
     },
     "execution_count": 10,
     "metadata": {},
     "output_type": "execute_result"
    }
   ],
   "source": [
    "nuts.total_bounds.round(2)"
   ]
  },
  {
   "cell_type": "markdown",
   "metadata": {},
   "source": [
    "## Island of Ireland boundary"
   ]
  },
  {
   "cell_type": "code",
   "execution_count": 11,
   "metadata": {},
   "outputs": [],
   "source": [
    "ie = nuts.copy()"
   ]
  },
  {
   "cell_type": "code",
   "execution_count": 12,
   "metadata": {},
   "outputs": [],
   "source": [
    "ie = ie.dissolve(by=\"LEVL_CODE\", as_index=False)"
   ]
  },
  {
   "cell_type": "code",
   "execution_count": 13,
   "metadata": {},
   "outputs": [],
   "source": [
    "ie = ie[[\"geometry\"]]"
   ]
  },
  {
   "cell_type": "code",
   "execution_count": 14,
   "metadata": {},
   "outputs": [],
   "source": [
    "ie = ie.assign(NAME=\"Ireland\")"
   ]
  },
  {
   "cell_type": "code",
   "execution_count": 15,
   "metadata": {},
   "outputs": [],
   "source": [
    "DESCRIPTION = (\n",
    "    \"Boundary for the Island of Ireland generated using NUTS 2021 Level 1 \"\n",
    "    \"boundaries\"\n",
    ")\n",
    "\n",
    "ie = ie.assign(DESCRIPTION=DESCRIPTION)"
   ]
  },
  {
   "cell_type": "code",
   "execution_count": 16,
   "metadata": {},
   "outputs": [
    {
     "data": {
      "text/html": [
       "<div>\n",
       "<style scoped>\n",
       "    .dataframe tbody tr th:only-of-type {\n",
       "        vertical-align: middle;\n",
       "    }\n",
       "\n",
       "    .dataframe tbody tr th {\n",
       "        vertical-align: top;\n",
       "    }\n",
       "\n",
       "    .dataframe thead th {\n",
       "        text-align: right;\n",
       "    }\n",
       "</style>\n",
       "<table border=\"1\" class=\"dataframe\">\n",
       "  <thead>\n",
       "    <tr style=\"text-align: right;\">\n",
       "      <th></th>\n",
       "      <th>geometry</th>\n",
       "      <th>NAME</th>\n",
       "      <th>DESCRIPTION</th>\n",
       "    </tr>\n",
       "  </thead>\n",
       "  <tbody>\n",
       "    <tr>\n",
       "      <th>0</th>\n",
       "      <td>MULTIPOLYGON (((-10.18425 51.60914, -10.17367 ...</td>\n",
       "      <td>Ireland</td>\n",
       "      <td>Boundary for the Island of Ireland generated u...</td>\n",
       "    </tr>\n",
       "  </tbody>\n",
       "</table>\n",
       "</div>"
      ],
      "text/plain": [
       "                                            geometry     NAME  \\\n",
       "0  MULTIPOLYGON (((-10.18425 51.60914, -10.17367 ...  Ireland   \n",
       "\n",
       "                                         DESCRIPTION  \n",
       "0  Boundary for the Island of Ireland generated u...  "
      ]
     },
     "execution_count": 16,
     "metadata": {},
     "output_type": "execute_result"
    }
   ],
   "source": [
    "ie"
   ]
  },
  {
   "cell_type": "code",
   "execution_count": 17,
   "metadata": {},
   "outputs": [
    {
     "data": {
      "image/png": "[encoded data removed]",
      "text/plain": [
       "<Figure size 720x720 with 1 Axes>"
      ]
     },
     "metadata": {},
     "output_type": "display_data"
    }
   ],
   "source": [
    "ie.plot(\n",
    "    color=\"navajowhite\", figsize=(7.5, 7.5),\n",
    "    edgecolor=\"darkslategrey\", linewidth=.4\n",
    ")\n",
    "\n",
    "plt.title(\"Boundary of the Island of Ireland\")\n",
    "plt.text(\n",
    "    -8.75, 51.275,\n",
    "    \"© EuroGeographics for the administrative boundaries\"\n",
    ")\n",
    "plt.tick_params(labelbottom=False, labelleft=False)\n",
    "plt.tight_layout()\n",
    "plt.show()"
   ]
  },
  {
   "cell_type": "code",
   "execution_count": 18,
   "metadata": {},
   "outputs": [],
   "source": [
    "ie.to_file(GPKG_BOUNDARY, layer=\"NUTS_RG_01M_2021_4326_IE\")"
   ]
  }
 ],
 "metadata": {
  "kernelspec": {
   "display_name": "Python 3.10.6 ('ClimAg')",
   "language": "python",
   "name": "python3"
  },
  "language_info": {
   "codemirror_mode": {
    "name": "ipython",
    "version": 3
   },
   "file_extension": ".py",
   "mimetype": "text/x-python",
   "name": "python",
   "nbconvert_exporter": "python",
   "pygments_lexer": "ipython3",
   "version": "3.11.5"
  },
  "orig_nbformat": 4,
  "vscode": {
   "interpreter": {
    "hash": "c4e659d1bedfc73d1fd31d7c0e2c79d7cc7aac22204994016c65a9e44686eb91"
   }
  }
 },
 "nbformat": 4,
 "nbformat_minor": 2
}
