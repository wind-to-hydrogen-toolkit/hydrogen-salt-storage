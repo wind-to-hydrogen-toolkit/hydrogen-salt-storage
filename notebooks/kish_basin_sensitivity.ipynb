{
 "cells": [
  {
   "cell_type": "markdown",
   "metadata": {},
   "source": [
    "# Sensitivity Analysis"
   ]
  },
  {
   "cell_type": "code",
   "execution_count": 1,
   "metadata": {},
   "outputs": [],
   "source": [
    "import os\n",
    "\n",
    "import cartopy.crs as ccrs\n",
    "import contextily as cx\n",
    "import matplotlib.pyplot as plt\n",
    "import pandas as pd\n",
    "import seaborn as sns\n",
    "\n",
    "from src import functions as fns\n",
    "from src import data as rd"
   ]
  },
  {
   "cell_type": "code",
   "execution_count": 2,
   "metadata": {},
   "outputs": [],
   "source": [
    "# basemap cache directory\n",
    "cx.set_cache_dir(os.path.join(\"data\", \"basemaps\"))"
   ]
  },
  {
   "cell_type": "markdown",
   "metadata": {},
   "source": [
    "## Read data layers"
   ]
  },
  {
   "cell_type": "code",
   "execution_count": 3,
   "metadata": {},
   "outputs": [],
   "source": [
    "ds, extent = rd.kish_basin_data_depth_adjusted(\n",
    "    dat_path=os.path.join(\"data\", \"kish-basin\"),\n",
    "    bathymetry_path=os.path.join(\"data\", \"bathymetry\"),\n",
    ")"
   ]
  },
  {
   "cell_type": "markdown",
   "metadata": {},
   "source": [
    "## Stats"
   ]
  },
  {
   "cell_type": "code",
   "execution_count": 1,
   "metadata": {},
   "outputs": [],
   "source": [
    "# def make_stats_plots(dat_xr, show_plots=True):\n",
    "#     \"\"\"\n",
    "#     Statistical plots for the halite Xarray dataset\n",
    "\n",
    "#     Parameters\n",
    "#     ----------\n",
    "#     dat_xr : Xarray dataset of the halite data\n",
    "\n",
    "#     Returns\n",
    "#     -------\n",
    "#     - The dataset converted into a dataframe\n",
    "#     \"\"\"\n",
    "\n",
    "#     # convert to dataframe\n",
    "#     dat_df = dat_xr.to_dataframe()[list(dat_xr.data_vars)]\n",
    "\n",
    "#     if show_plots:\n",
    "#         # pairwise comparison of variables\n",
    "#         sns.pairplot(\n",
    "#             dat_df.reset_index(),\n",
    "#             palette=\"flare\",\n",
    "#             hue=\"halite\",\n",
    "#             plot_kws={\"alpha\": 0.5},\n",
    "#             vars=[\"Thickness\", \"TopDepthSeabed\", \"BaseDepthSeabed\"],\n",
    "#         )\n",
    "#         plt.show()\n",
    "\n",
    "#         # histograms\n",
    "#         fig, axes = plt.subplots(1, 2, figsize=(12, 5), sharey=True)\n",
    "#         sns.histplot(\n",
    "#             dat_df.reset_index(),\n",
    "#             x=\"Thickness\",\n",
    "#             hue=\"halite\",\n",
    "#             ax=axes[0],\n",
    "#             palette=\"rocket_r\",\n",
    "#             multiple=\"fill\",\n",
    "#             bins=100,\n",
    "#             legend=False,\n",
    "#         )\n",
    "#         sns.histplot(\n",
    "#             dat_df.reset_index(),\n",
    "#             x=\"TopDepth\",\n",
    "#             hue=\"halite\",\n",
    "#             ax=axes[1],\n",
    "#             palette=\"rocket_r\",\n",
    "#             multiple=\"fill\",\n",
    "#             bins=100,\n",
    "#         )\n",
    "#         plt.tight_layout()\n",
    "#         plt.show()\n",
    "\n",
    "#         # box plots\n",
    "#         fig, axes = plt.subplots(1, 3, figsize=(8, 4.5))\n",
    "#         sns.boxplot(\n",
    "#             dat_df.reset_index(),\n",
    "#             y=\"Thickness\",\n",
    "#             hue=\"halite\",\n",
    "#             palette=\"flare\",\n",
    "#             ax=axes[0],\n",
    "#         )\n",
    "#         sns.boxplot(\n",
    "#             dat_df.reset_index(),\n",
    "#             y=\"TopDepthSeabed\",\n",
    "#             hue=\"halite\",\n",
    "#             palette=\"flare\",\n",
    "#             ax=axes[1],\n",
    "#             legend=False,\n",
    "#         )\n",
    "#         sns.boxplot(\n",
    "#             dat_df.reset_index(),\n",
    "#             y=\"BaseDepthSeabed\",\n",
    "#             hue=\"halite\",\n",
    "#             palette=\"flare\",\n",
    "#             ax=axes[2],\n",
    "#             legend=False,\n",
    "#         )\n",
    "#         plt.tight_layout()\n",
    "#         plt.show()\n",
    "\n",
    "#     return dat_df"
   ]
  },
  {
   "cell_type": "code",
   "execution_count": 20,
   "metadata": {},
   "outputs": [],
   "source": [
    "# df = make_stats_plots(ds, show_plots=False)"
   ]
  },
  {
   "cell_type": "code",
   "execution_count": 19,
   "metadata": {},
   "outputs": [],
   "source": [
    "# df.describe()"
   ]
  },
  {
   "cell_type": "code",
   "execution_count": 21,
   "metadata": {},
   "outputs": [],
   "source": [
    "# # surface area\n",
    "# shape = rd.halite_shape(dat_xr=ds)"
   ]
  },
  {
   "cell_type": "markdown",
   "metadata": {},
   "source": [
    "## Zones of interest"
   ]
  },
  {
   "cell_type": "code",
   "execution_count": 18,
   "metadata": {},
   "outputs": [],
   "source": [
    "# def plot_zones_map(zdf, dat_extent, dat_crs):\n",
    "#     xmin_, ymin_, xmax_, ymax_ = dat_extent.total_bounds\n",
    "\n",
    "#     ax = plt.axes(projection=ccrs.epsg(dat_crs))\n",
    "#     zdf.boundary.plot(ax=ax, linewidth=1, color=\"darkslategrey\")\n",
    "#     plt.xlim(xmin_, xmax_)\n",
    "#     plt.ylim(ymin_, ymax_)\n",
    "#     cx.add_basemap(\n",
    "#         ax, source=cx.providers.CartoDB.PositronNoLabels, crs=dat_crs\n",
    "#     )\n",
    "#     plt.title(\"Zones of interest\")\n",
    "#     plt.tight_layout()\n",
    "#     plt.show()"
   ]
  },
  {
   "cell_type": "markdown",
   "metadata": {},
   "source": [
    "### Case 1\n",
    "\n",
    "height = 311 m, 1,000 m <= depth <= 1,500 m, diameter = 80 m,\n",
    "separation = 320 m"
   ]
  },
  {
   "cell_type": "code",
   "execution_count": 3,
   "metadata": {},
   "outputs": [],
   "source": [
    "# zones_1, zds_1 = fns.zones_of_interest(\n",
    "#     dat_xr=ds,\n",
    "#     constraints={\"height\": 311, \"min_depth\": 1000, \"max_depth\": 1500},\n",
    "# )\n",
    "\n",
    "# plot_zones_map(zones_1, extent, CRS)"
   ]
  },
  {
   "cell_type": "markdown",
   "metadata": {},
   "source": [
    "### Case 2\n",
    "\n",
    "height = 155 m, 1000 m <= depth <= 1,500 m, diameter = 80 m,\n",
    "separation = 320 m"
   ]
  },
  {
   "cell_type": "code",
   "execution_count": 4,
   "metadata": {},
   "outputs": [],
   "source": [
    "# zones_2, zds_2 = fns.zones_of_interest(\n",
    "#     dat_xr=ds, constraints={\"height\": 155, \"min_depth\": 750, \"max_depth\": 1750}\n",
    "# )\n",
    "\n",
    "# plot_zones_map(zones_2, extent, rd.CRS)"
   ]
  },
  {
   "cell_type": "markdown",
   "metadata": {},
   "source": [
    "### Case 3\n",
    "\n",
    "height = 85 m, 500 m <= depth <= 2,000 m, diameter = 80 m,\n",
    "separation = 320 m"
   ]
  },
  {
   "cell_type": "code",
   "execution_count": 5,
   "metadata": {},
   "outputs": [],
   "source": [
    "# zones_3, zds_3 = fns.zones_of_interest(\n",
    "#     dat_xr=ds, constraints={\"height\": 85, \"min_depth\": 500, \"max_depth\": 2000}\n",
    "# )\n",
    "\n",
    "# plot_zones_map(zones_3, extent, rd.CRS)"
   ]
  },
  {
   "cell_type": "markdown",
   "metadata": {},
   "source": [
    "## Zones of interest stats"
   ]
  },
  {
   "cell_type": "markdown",
   "metadata": {},
   "source": [
    "### Case 1"
   ]
  },
  {
   "cell_type": "code",
   "execution_count": 6,
   "metadata": {},
   "outputs": [],
   "source": [
    "# zdf_1 = make_stats_plots(zds_1)"
   ]
  },
  {
   "cell_type": "code",
   "execution_count": 17,
   "metadata": {},
   "outputs": [],
   "source": [
    "# zdf_1.describe()"
   ]
  },
  {
   "cell_type": "markdown",
   "metadata": {},
   "source": [
    "### Case 2"
   ]
  },
  {
   "cell_type": "code",
   "execution_count": 7,
   "metadata": {},
   "outputs": [],
   "source": [
    "# zdf_2 = make_stats_plots(zds_2)"
   ]
  },
  {
   "cell_type": "code",
   "execution_count": 16,
   "metadata": {},
   "outputs": [],
   "source": [
    "# zdf_2.describe()"
   ]
  },
  {
   "cell_type": "markdown",
   "metadata": {},
   "source": [
    "### Case 3"
   ]
  },
  {
   "cell_type": "code",
   "execution_count": 8,
   "metadata": {},
   "outputs": [],
   "source": [
    "# zdf_3 = make_stats_plots(zds_3)"
   ]
  },
  {
   "cell_type": "code",
   "execution_count": 15,
   "metadata": {},
   "outputs": [],
   "source": [
    "# zdf_3.describe()"
   ]
  },
  {
   "cell_type": "markdown",
   "metadata": {},
   "source": [
    "## Sensitivity analysis\n",
    "\n",
    "Sensitivity of maximum halite area (i.e. zones of interest) available for\n",
    "cavern construction (without constraints) to depth and thickness"
   ]
  },
  {
   "cell_type": "code",
   "execution_count": 14,
   "metadata": {},
   "outputs": [],
   "source": [
    "# def sensitivity(zones_gdf, height_base, min_depth_base, max_depth_base):\n",
    "#     sdf = {}\n",
    "\n",
    "#     # sensitivity to height\n",
    "#     heights = [85 + 226 / 50 * n for n in range(51)]\n",
    "#     area_max = []\n",
    "\n",
    "#     for t in heights:\n",
    "#         area_max.append(\n",
    "#             fns.zones_of_interest(\n",
    "#                 dat_xr=ds,\n",
    "#                 constraints={\n",
    "#                     \"height\": t,\n",
    "#                     \"min_depth\": min_depth_base,\n",
    "#                     \"max_depth\": max_depth_base,\n",
    "#                 },\n",
    "#             )[0].area[0]\n",
    "#         )\n",
    "\n",
    "#     sdf[\"height\"] = pd.DataFrame({\"max_area\": area_max, \"height\": heights})\n",
    "\n",
    "#     # percentage change\n",
    "#     sdf[\"height\"][\"diff_area\"] = (\n",
    "#         (sdf[\"height\"][\"max_area\"] - zones_gdf.area[0])\n",
    "#         / zones_gdf.area[0]\n",
    "#         * 100\n",
    "#     )\n",
    "\n",
    "#     # sensitivity to minimum depth\n",
    "#     depth_min = [500 + 10 * n for n in range(61)]\n",
    "#     area_max = []\n",
    "\n",
    "#     for t in depth_min:\n",
    "#         area_max.append(\n",
    "#             fns.zones_of_interest(\n",
    "#                 dat_xr=ds,\n",
    "#                 constraints={\n",
    "#                     \"height\": height_base,\n",
    "#                     \"min_depth\": t,\n",
    "#                     \"max_depth\": max_depth_base,\n",
    "#                 },\n",
    "#             )[0].area[0]\n",
    "#         )\n",
    "\n",
    "#     sdf[\"min_depth\"] = pd.DataFrame(\n",
    "#         {\"max_area\": area_max, \"min_depth\": depth_min}\n",
    "#     )\n",
    "\n",
    "#     # percentage change\n",
    "#     sdf[\"min_depth\"][\"diff_area\"] = (\n",
    "#         (sdf[\"min_depth\"][\"max_area\"] - zones_gdf.area[0])\n",
    "#         / zones_gdf.area[0]\n",
    "#         * 100\n",
    "#     )\n",
    "\n",
    "#     # sensitivity to maximum depth\n",
    "#     depth_max = [1400 + 10 * n for n in range(61)]\n",
    "#     area_max = []\n",
    "\n",
    "#     for t in depth_max:\n",
    "#         area_max.append(\n",
    "#             fns.zones_of_interest(\n",
    "#                 dat_xr=ds,\n",
    "#                 constraints={\n",
    "#                     \"height\": height_base,\n",
    "#                     \"min_depth\": min_depth_base,\n",
    "#                     \"max_depth\": t,\n",
    "#                 },\n",
    "#             )[0].area[0]\n",
    "#         )\n",
    "\n",
    "#     sdf[\"max_depth\"] = pd.DataFrame(\n",
    "#         {\"max_area\": area_max, \"max_depth\": depth_max}\n",
    "#     )\n",
    "\n",
    "#     # percentage change\n",
    "#     sdf[\"max_depth\"][\"diff_area\"] = (\n",
    "#         (sdf[\"max_depth\"][\"max_area\"] - zones_gdf.area[0])\n",
    "#         / zones_gdf.area[0]\n",
    "#         * 100\n",
    "#     )\n",
    "\n",
    "#     return sdf"
   ]
  },
  {
   "cell_type": "code",
   "execution_count": 13,
   "metadata": {},
   "outputs": [],
   "source": [
    "# sdf = sensitivity(zones_2, 155, 750, 1750)"
   ]
  },
  {
   "cell_type": "code",
   "execution_count": 12,
   "metadata": {},
   "outputs": [],
   "source": [
    "# for key in sdf.keys():\n",
    "#     print(key)\n",
    "#     print(sdf[key].describe())"
   ]
  },
  {
   "cell_type": "code",
   "execution_count": 11,
   "metadata": {},
   "outputs": [],
   "source": [
    "# fig, axes = plt.subplots(1, 3, figsize=(12, 4))\n",
    "# for (n, key), c in zip(\n",
    "#     enumerate(sdf.keys()), [\"royalblue\", \"crimson\", \"seagreen\"]\n",
    "# ):\n",
    "#     sns.regplot(\n",
    "#         sdf[key],\n",
    "#         x=key,\n",
    "#         y=\"max_area\",\n",
    "#         logx=True,\n",
    "#         ax=axes[n],\n",
    "#         marker=\".\",\n",
    "#         color=c,\n",
    "#     )\n",
    "# plt.tight_layout()\n",
    "# plt.show()"
   ]
  },
  {
   "cell_type": "code",
   "execution_count": 10,
   "metadata": {},
   "outputs": [],
   "source": [
    "# fig, axes = plt.subplots(1, 3, figsize=(12, 4), sharey=True)\n",
    "# for (n, key), c in zip(\n",
    "#     enumerate(sdf.keys()), [\"royalblue\", \"crimson\", \"seagreen\"]\n",
    "# ):\n",
    "#     sns.regplot(\n",
    "#         sdf[key],\n",
    "#         x=key,\n",
    "#         y=\"diff_area\",\n",
    "#         logx=True,\n",
    "#         ax=axes[n],\n",
    "#         marker=\".\",\n",
    "#         color=c,\n",
    "#     )\n",
    "# plt.ylim(-110, 110)\n",
    "# plt.tight_layout()\n",
    "# plt.show()"
   ]
  }
 ],
 "metadata": {
  "kernelspec": {
   "display_name": "Python 3 (ipykernel)",
   "language": "python",
   "name": "python3"
  },
  "language_info": {
   "codemirror_mode": {
    "name": "ipython",
    "version": 3
   },
   "file_extension": ".py",
   "mimetype": "text/x-python",
   "name": "python",
   "nbconvert_exporter": "python",
   "pygments_lexer": "ipython3",
   "version": "3.11.6"
  }
 },
 "nbformat": 4,
 "nbformat_minor": 4
}
