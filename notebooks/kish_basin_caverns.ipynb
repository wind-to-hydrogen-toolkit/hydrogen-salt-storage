{
 "cells": [
  {
   "cell_type": "markdown",
   "metadata": {},
   "source": [
    "# Kish Basin Salt Caverns\n",
    "\n",
    "<https://hyss.ie/>"
   ]
  },
  {
   "cell_type": "code",
   "execution_count": 1,
   "metadata": {},
   "outputs": [],
   "source": [
    "import os\n",
    "from zipfile import BadZipFile, ZipFile\n",
    "import geopandas as gpd\n",
    "import matplotlib.pyplot as plt\n",
    "import pandas as pd\n",
    "import xarray as xr\n",
    "import cartopy.crs as ccrs\n",
    "import pooch\n",
    "import glob\n",
    "from datetime import datetime, timezone\n",
    "from shapely.geometry import Polygon\n",
    "import rioxarray as rxr\n",
    "from geocube.api.core import make_geocube\n",
    "from textwrap import wrap\n",
    "import numpy as np\n",
    "import shapely"
   ]
  },
  {
   "cell_type": "code",
   "execution_count": 2,
   "metadata": {},
   "outputs": [],
   "source": [
    "# base data download directory\n",
    "DATA_DIR = os.path.join(\"data\", \"kish-basin\")\n",
    "FILE_NAME = \"Kish-Basin-dat-files.zip\"\n",
    "\n",
    "DATA_FILE = os.path.join(DATA_DIR, FILE_NAME)\n",
    "\n",
    "# boundary data\n",
    "ie = gpd.read_file(\n",
    "    os.path.join(\"data\", \"boundaries.gpkg\"), layer=\"NUTS_RG_01M_2021_4326_IE\"\n",
    ")\n",
    "\n",
    "crs = 23029"
   ]
  },
  {
   "cell_type": "markdown",
   "metadata": {},
   "source": [
    "## Read data layers"
   ]
  },
  {
   "cell_type": "code",
   "execution_count": 140,
   "metadata": {},
   "outputs": [],
   "source": [
    "def read_dat_file(dat_path: str, dat_crs):\n",
    "    \"\"\"\n",
    "    Read XYZ data layers into an Xarray dataset\n",
    "    \"\"\"\n",
    "\n",
    "    gdf = {}\n",
    "    for dat_file in glob.glob(dat_path):\n",
    "        # read each layer as individual dataframes into a dictionary\n",
    "        gdf[os.path.split(dat_file)[1][:-4]] = pd.read_fwf(\n",
    "            dat_file, header=None, names=[\"X\", \"Y\", \"Z\"]\n",
    "        )\n",
    "\n",
    "        # assign layer name to a column\n",
    "        gdf[os.path.split(dat_file)[1][:-4]][\"data\"] = (\n",
    "            os.path.split(dat_file)[1][:-4]\n",
    "        )\n",
    "    \n",
    "    # combine dataframes\n",
    "    gdf = pd.concat(gdf.values())\n",
    "\n",
    "    # convert dataframe to geodataframe\n",
    "    gdf[\"wkt\"] = (\n",
    "        \"POINT (\" + gdf[\"X\"].astype(str) + \" \" + gdf[\"Y\"].astype(str) + \")\"\n",
    "    )\n",
    "    gdf = gpd.GeoDataFrame(\n",
    "        gdf, geometry=gpd.GeoSeries.from_wkt(gdf[\"wkt\"]), crs=dat_crs\n",
    "    )\n",
    "    gdf.drop(columns=[\"wkt\", \"X\", \"Y\"], inplace=True)\n",
    "\n",
    "    # convert to Xarray dataset\n",
    "    ds = make_geocube(\n",
    "        vector_data=gdf, resolution=(200, -200), group_by=\"data\"\n",
    "    )\n",
    "\n",
    "    # keep only zones of interest in the dataframe\n",
    "    gdf = gdf.loc[gdf[\"data\"].str.contains(\"Zone\")]\n",
    "\n",
    "    return gdf, ds"
   ]
  },
  {
   "cell_type": "code",
   "execution_count": 141,
   "metadata": {},
   "outputs": [],
   "source": [
    "gdf, ds = read_dat_file(os.path.join(DATA_DIR, \"*.dat\"), dat_crs=crs)"
   ]
  },
  {
   "cell_type": "markdown",
   "metadata": {},
   "source": [
    "### Map extent"
   ]
  },
  {
   "cell_type": "code",
   "execution_count": 3,
   "metadata": {},
   "outputs": [],
   "source": [
    "# create extent polygon\n",
    "extent = pd.read_csv(\n",
    "    os.path.join(DATA_DIR, \"Kish GIS Map Extent - Square.csv\"), skiprows=2\n",
    ")\n",
    "extent = gpd.GeoSeries(\n",
    "    Polygon([\n",
    "        (extent[\" X\"][0], extent[\" Y\"][0]),\n",
    "        (extent[\" X\"][1], extent[\" Y\"][1]),\n",
    "        (extent[\" X\"][2], extent[\" Y\"][2]),\n",
    "        (extent[\" X\"][3], extent[\" Y\"][3])\n",
    "    ]),\n",
    "    crs=crs\n",
    ")"
   ]
  },
  {
   "cell_type": "code",
   "execution_count": 157,
   "metadata": {},
   "outputs": [
    {
     "data": {
      "text/html": [
       "<div>\n",
       "<style scoped>\n",
       "    .dataframe tbody tr th:only-of-type {\n",
       "        vertical-align: middle;\n",
       "    }\n",
       "\n",
       "    .dataframe tbody tr th {\n",
       "        vertical-align: top;\n",
       "    }\n",
       "\n",
       "    .dataframe thead th {\n",
       "        text-align: right;\n",
       "    }\n",
       "</style>\n",
       "<table border=\"1\" class=\"dataframe\">\n",
       "  <thead>\n",
       "    <tr style=\"text-align: right;\">\n",
       "      <th></th>\n",
       "      <th>minx</th>\n",
       "      <th>miny</th>\n",
       "      <th>maxx</th>\n",
       "      <th>maxy</th>\n",
       "    </tr>\n",
       "  </thead>\n",
       "  <tbody>\n",
       "    <tr>\n",
       "      <th>0</th>\n",
       "      <td>687000.0</td>\n",
       "      <td>5888000.0</td>\n",
       "      <td>742000.0</td>\n",
       "      <td>5937000.0</td>\n",
       "    </tr>\n",
       "  </tbody>\n",
       "</table>\n",
       "</div>"
      ],
      "text/plain": [
       "       minx       miny      maxx       maxy\n",
       "0  687000.0  5888000.0  742000.0  5937000.0"
      ]
     },
     "execution_count": 157,
     "metadata": {},
     "output_type": "execute_result"
    }
   ],
   "source": [
    "extent.bounds"
   ]
  },
  {
   "cell_type": "markdown",
   "metadata": {},
   "source": [
    "### Halite layers"
   ]
  },
  {
   "cell_type": "code",
   "execution_count": 142,
   "metadata": {},
   "outputs": [
    {
     "data": {
      "text/html": [
       "<div><svg style=\"position: absolute; width: 0; height: 0; overflow: hidden\">\n",
       "<defs>\n",
       "<symbol id=\"icon-database\" viewBox=\"0 0 32 32\">\n",
       "<path d=\"M16 0c-8.837 0-16 2.239-16 5v4c0 2.761 7.163 5 16 5s16-2.239 16-5v-4c0-2.761-7.163-5-16-5z\"></path>\n",
       "<path d=\"M16 17c-8.837 0-16-2.239-16-5v6c0 2.761 7.163 5 16 5s16-2.239 16-5v-6c0 2.761-7.163 5-16 5z\"></path>\n",
       "<path d=\"M16 26c-8.837 0-16-2.239-16-5v6c0 2.761 7.163 5 16 5s16-2.239 16-5v-6c0 2.761-7.163 5-16 5z\"></path>\n",
       "</symbol>\n",
       "<symbol id=\"icon-file-text2\" viewBox=\"0 0 32 32\">\n",
       "<path d=\"M28.681 7.159c-0.694-0.947-1.662-2.053-2.724-3.116s-2.169-2.030-3.116-2.724c-1.612-1.182-2.393-1.319-2.841-1.319h-15.5c-1.378 0-2.5 1.121-2.5 2.5v27c0 1.378 1.122 2.5 2.5 2.5h23c1.378 0 2.5-1.122 2.5-2.5v-19.5c0-0.448-0.137-1.23-1.319-2.841zM24.543 5.457c0.959 0.959 1.712 1.825 2.268 2.543h-4.811v-4.811c0.718 0.556 1.584 1.309 2.543 2.268zM28 29.5c0 0.271-0.229 0.5-0.5 0.5h-23c-0.271 0-0.5-0.229-0.5-0.5v-27c0-0.271 0.229-0.5 0.5-0.5 0 0 15.499-0 15.5 0v7c0 0.552 0.448 1 1 1h7v19.5z\"></path>\n",
       "<path d=\"M23 26h-14c-0.552 0-1-0.448-1-1s0.448-1 1-1h14c0.552 0 1 0.448 1 1s-0.448 1-1 1z\"></path>\n",
       "<path d=\"M23 22h-14c-0.552 0-1-0.448-1-1s0.448-1 1-1h14c0.552 0 1 0.448 1 1s-0.448 1-1 1z\"></path>\n",
       "<path d=\"M23 18h-14c-0.552 0-1-0.448-1-1s0.448-1 1-1h14c0.552 0 1 0.448 1 1s-0.448 1-1 1z\"></path>\n",
       "</symbol>\n",
       "</defs>\n",
       "</svg>\n",
       "<style>/* CSS stylesheet for displaying xarray objects in jupyterlab.\n",
       " *\n",
       " */\n",
       "\n",
       ":root {\n",
       "  --xr-font-color0: var(--jp-content-font-color0, rgba(0, 0, 0, 1));\n",
       "  --xr-font-color2: var(--jp-content-font-color2, rgba(0, 0, 0, 0.54));\n",
       "  --xr-font-color3: var(--jp-content-font-color3, rgba(0, 0, 0, 0.38));\n",
       "  --xr-border-color: var(--jp-border-color2, #e0e0e0);\n",
       "  --xr-disabled-color: var(--jp-layout-color3, #bdbdbd);\n",
       "  --xr-background-color: var(--jp-layout-color0, white);\n",
       "  --xr-background-color-row-even: var(--jp-layout-color1, white);\n",
       "  --xr-background-color-row-odd: var(--jp-layout-color2, #eeeeee);\n",
       "}\n",
       "\n",
       "html[theme=dark],\n",
       "body[data-theme=dark],\n",
       "body.vscode-dark {\n",
       "  --xr-font-color0: rgba(255, 255, 255, 1);\n",
       "  --xr-font-color2: rgba(255, 255, 255, 0.54);\n",
       "  --xr-font-color3: rgba(255, 255, 255, 0.38);\n",
       "  --xr-border-color: #1F1F1F;\n",
       "  --xr-disabled-color: #515151;\n",
       "  --xr-background-color: #111111;\n",
       "  --xr-background-color-row-even: #111111;\n",
       "  --xr-background-color-row-odd: #313131;\n",
       "}\n",
       "\n",
       ".xr-wrap {\n",
       "  display: block !important;\n",
       "  min-width: 300px;\n",
       "  max-width: 700px;\n",
       "}\n",
       "\n",
       ".xr-text-repr-fallback {\n",
       "  /* fallback to plain text repr when CSS is not injected (untrusted notebook) */\n",
       "  display: none;\n",
       "}\n",
       "\n",
       ".xr-header {\n",
       "  padding-top: 6px;\n",
       "  padding-bottom: 6px;\n",
       "  margin-bottom: 4px;\n",
       "  border-bottom: solid 1px var(--xr-border-color);\n",
       "}\n",
       "\n",
       ".xr-header > div,\n",
       ".xr-header > ul {\n",
       "  display: inline;\n",
       "  margin-top: 0;\n",
       "  margin-bottom: 0;\n",
       "}\n",
       "\n",
       ".xr-obj-type,\n",
       ".xr-array-name {\n",
       "  margin-left: 2px;\n",
       "  margin-right: 10px;\n",
       "}\n",
       "\n",
       ".xr-obj-type {\n",
       "  color: var(--xr-font-color2);\n",
       "}\n",
       "\n",
       ".xr-sections {\n",
       "  padding-left: 0 !important;\n",
       "  display: grid;\n",
       "  grid-template-columns: 150px auto auto 1fr 20px 20px;\n",
       "}\n",
       "\n",
       ".xr-section-item {\n",
       "  display: contents;\n",
       "}\n",
       "\n",
       ".xr-section-item input {\n",
       "  display: none;\n",
       "}\n",
       "\n",
       ".xr-section-item input + label {\n",
       "  color: var(--xr-disabled-color);\n",
       "}\n",
       "\n",
       ".xr-section-item input:enabled + label {\n",
       "  cursor: pointer;\n",
       "  color: var(--xr-font-color2);\n",
       "}\n",
       "\n",
       ".xr-section-item input:enabled + label:hover {\n",
       "  color: var(--xr-font-color0);\n",
       "}\n",
       "\n",
       ".xr-section-summary {\n",
       "  grid-column: 1;\n",
       "  color: var(--xr-font-color2);\n",
       "  font-weight: 500;\n",
       "}\n",
       "\n",
       ".xr-section-summary > span {\n",
       "  display: inline-block;\n",
       "  padding-left: 0.5em;\n",
       "}\n",
       "\n",
       ".xr-section-summary-in:disabled + label {\n",
       "  color: var(--xr-font-color2);\n",
       "}\n",
       "\n",
       ".xr-section-summary-in + label:before {\n",
       "  display: inline-block;\n",
       "  content: '►';\n",
       "  font-size: 11px;\n",
       "  width: 15px;\n",
       "  text-align: center;\n",
       "}\n",
       "\n",
       ".xr-section-summary-in:disabled + label:before {\n",
       "  color: var(--xr-disabled-color);\n",
       "}\n",
       "\n",
       ".xr-section-summary-in:checked + label:before {\n",
       "  content: '▼';\n",
       "}\n",
       "\n",
       ".xr-section-summary-in:checked + label > span {\n",
       "  display: none;\n",
       "}\n",
       "\n",
       ".xr-section-summary,\n",
       ".xr-section-inline-details {\n",
       "  padding-top: 4px;\n",
       "  padding-bottom: 4px;\n",
       "}\n",
       "\n",
       ".xr-section-inline-details {\n",
       "  grid-column: 2 / -1;\n",
       "}\n",
       "\n",
       ".xr-section-details {\n",
       "  display: none;\n",
       "  grid-column: 1 / -1;\n",
       "  margin-bottom: 5px;\n",
       "}\n",
       "\n",
       ".xr-section-summary-in:checked ~ .xr-section-details {\n",
       "  display: contents;\n",
       "}\n",
       "\n",
       ".xr-array-wrap {\n",
       "  grid-column: 1 / -1;\n",
       "  display: grid;\n",
       "  grid-template-columns: 20px auto;\n",
       "}\n",
       "\n",
       ".xr-array-wrap > label {\n",
       "  grid-column: 1;\n",
       "  vertical-align: top;\n",
       "}\n",
       "\n",
       ".xr-preview {\n",
       "  color: var(--xr-font-color3);\n",
       "}\n",
       "\n",
       ".xr-array-preview,\n",
       ".xr-array-data {\n",
       "  padding: 0 5px !important;\n",
       "  grid-column: 2;\n",
       "}\n",
       "\n",
       ".xr-array-data,\n",
       ".xr-array-in:checked ~ .xr-array-preview {\n",
       "  display: none;\n",
       "}\n",
       "\n",
       ".xr-array-in:checked ~ .xr-array-data,\n",
       ".xr-array-preview {\n",
       "  display: inline-block;\n",
       "}\n",
       "\n",
       ".xr-dim-list {\n",
       "  display: inline-block !important;\n",
       "  list-style: none;\n",
       "  padding: 0 !important;\n",
       "  margin: 0;\n",
       "}\n",
       "\n",
       ".xr-dim-list li {\n",
       "  display: inline-block;\n",
       "  padding: 0;\n",
       "  margin: 0;\n",
       "}\n",
       "\n",
       ".xr-dim-list:before {\n",
       "  content: '(';\n",
       "}\n",
       "\n",
       ".xr-dim-list:after {\n",
       "  content: ')';\n",
       "}\n",
       "\n",
       ".xr-dim-list li:not(:last-child):after {\n",
       "  content: ',';\n",
       "  padding-right: 5px;\n",
       "}\n",
       "\n",
       ".xr-has-index {\n",
       "  font-weight: bold;\n",
       "}\n",
       "\n",
       ".xr-var-list,\n",
       ".xr-var-item {\n",
       "  display: contents;\n",
       "}\n",
       "\n",
       ".xr-var-item > div,\n",
       ".xr-var-item label,\n",
       ".xr-var-item > .xr-var-name span {\n",
       "  background-color: var(--xr-background-color-row-even);\n",
       "  margin-bottom: 0;\n",
       "}\n",
       "\n",
       ".xr-var-item > .xr-var-name:hover span {\n",
       "  padding-right: 5px;\n",
       "}\n",
       "\n",
       ".xr-var-list > li:nth-child(odd) > div,\n",
       ".xr-var-list > li:nth-child(odd) > label,\n",
       ".xr-var-list > li:nth-child(odd) > .xr-var-name span {\n",
       "  background-color: var(--xr-background-color-row-odd);\n",
       "}\n",
       "\n",
       ".xr-var-name {\n",
       "  grid-column: 1;\n",
       "}\n",
       "\n",
       ".xr-var-dims {\n",
       "  grid-column: 2;\n",
       "}\n",
       "\n",
       ".xr-var-dtype {\n",
       "  grid-column: 3;\n",
       "  text-align: right;\n",
       "  color: var(--xr-font-color2);\n",
       "}\n",
       "\n",
       ".xr-var-preview {\n",
       "  grid-column: 4;\n",
       "}\n",
       "\n",
       ".xr-index-preview {\n",
       "  grid-column: 2 / 5;\n",
       "  color: var(--xr-font-color2);\n",
       "}\n",
       "\n",
       ".xr-var-name,\n",
       ".xr-var-dims,\n",
       ".xr-var-dtype,\n",
       ".xr-preview,\n",
       ".xr-attrs dt {\n",
       "  white-space: nowrap;\n",
       "  overflow: hidden;\n",
       "  text-overflow: ellipsis;\n",
       "  padding-right: 10px;\n",
       "}\n",
       "\n",
       ".xr-var-name:hover,\n",
       ".xr-var-dims:hover,\n",
       ".xr-var-dtype:hover,\n",
       ".xr-attrs dt:hover {\n",
       "  overflow: visible;\n",
       "  width: auto;\n",
       "  z-index: 1;\n",
       "}\n",
       "\n",
       ".xr-var-attrs,\n",
       ".xr-var-data,\n",
       ".xr-index-data {\n",
       "  display: none;\n",
       "  background-color: var(--xr-background-color) !important;\n",
       "  padding-bottom: 5px !important;\n",
       "}\n",
       "\n",
       ".xr-var-attrs-in:checked ~ .xr-var-attrs,\n",
       ".xr-var-data-in:checked ~ .xr-var-data,\n",
       ".xr-index-data-in:checked ~ .xr-index-data {\n",
       "  display: block;\n",
       "}\n",
       "\n",
       ".xr-var-data > table {\n",
       "  float: right;\n",
       "}\n",
       "\n",
       ".xr-var-name span,\n",
       ".xr-var-data,\n",
       ".xr-index-name div,\n",
       ".xr-index-data,\n",
       ".xr-attrs {\n",
       "  padding-left: 25px !important;\n",
       "}\n",
       "\n",
       ".xr-attrs,\n",
       ".xr-var-attrs,\n",
       ".xr-var-data,\n",
       ".xr-index-data {\n",
       "  grid-column: 1 / -1;\n",
       "}\n",
       "\n",
       "dl.xr-attrs {\n",
       "  padding: 0;\n",
       "  margin: 0;\n",
       "  display: grid;\n",
       "  grid-template-columns: 125px auto;\n",
       "}\n",
       "\n",
       ".xr-attrs dt,\n",
       ".xr-attrs dd {\n",
       "  padding: 0;\n",
       "  margin: 0;\n",
       "  float: left;\n",
       "  padding-right: 10px;\n",
       "  width: auto;\n",
       "}\n",
       "\n",
       ".xr-attrs dt {\n",
       "  font-weight: normal;\n",
       "  grid-column: 1;\n",
       "}\n",
       "\n",
       ".xr-attrs dt:hover span {\n",
       "  display: inline-block;\n",
       "  background: var(--xr-background-color);\n",
       "  padding-right: 10px;\n",
       "}\n",
       "\n",
       ".xr-attrs dd {\n",
       "  grid-column: 2;\n",
       "  white-space: pre-wrap;\n",
       "  word-break: break-all;\n",
       "}\n",
       "\n",
       ".xr-icon-database,\n",
       ".xr-icon-file-text2,\n",
       ".xr-no-icon {\n",
       "  display: inline-block;\n",
       "  vertical-align: middle;\n",
       "  width: 1em;\n",
       "  height: 1.5em !important;\n",
       "  stroke-width: 0;\n",
       "  stroke: currentColor;\n",
       "  fill: currentColor;\n",
       "}\n",
       "</style><pre class='xr-text-repr-fallback'>&lt;xarray.Dataset&gt;\n",
       "Dimensions:      (data: 19, y: 236, x: 217)\n",
       "Coordinates:\n",
       "  * y            (y) float64 5.889e+06 5.89e+06 5.89e+06 ... 5.936e+06 5.936e+06\n",
       "  * x            (x) float64 7.399e+05 7.397e+05 ... 6.969e+05 6.967e+05\n",
       "  * data         (data) &lt;U66 &#x27;Flyde Halite Base Depth XYZ Meters&#x27; ... &#x27;Rossal...\n",
       "    spatial_ref  int64 0\n",
       "Data variables:\n",
       "    Z            (data, y, x) float64 nan nan nan nan nan ... nan nan nan nan</pre><div class='xr-wrap' style='display:none'><div class='xr-header'><div class='xr-obj-type'>xarray.Dataset</div></div><ul class='xr-sections'><li class='xr-section-item'><input id='section-f0d4294b-809c-4fc2-8042-3ba32734f7ff' class='xr-section-summary-in' type='checkbox' disabled ><label for='section-f0d4294b-809c-4fc2-8042-3ba32734f7ff' class='xr-section-summary'  title='Expand/collapse section'>Dimensions:</label><div class='xr-section-inline-details'><ul class='xr-dim-list'><li><span class='xr-has-index'>data</span>: 19</li><li><span class='xr-has-index'>y</span>: 236</li><li><span class='xr-has-index'>x</span>: 217</li></ul></div><div class='xr-section-details'></div></li><li class='xr-section-item'><input id='section-a6b2ee4c-fc63-4c3e-a664-1166bb5e61a7' class='xr-section-summary-in' type='checkbox'  checked><label for='section-a6b2ee4c-fc63-4c3e-a664-1166bb5e61a7' class='xr-section-summary' >Coordinates: <span>(4)</span></label><div class='xr-section-inline-details'></div><div class='xr-section-details'><ul class='xr-var-list'><li class='xr-var-item'><div class='xr-var-name'><span class='xr-has-index'>y</span></div><div class='xr-var-dims'>(y)</div><div class='xr-var-dtype'>float64</div><div class='xr-var-preview xr-preview'>5.889e+06 5.89e+06 ... 5.936e+06</div><input id='attrs-5e1a9445-b3a9-4807-ae77-691498dbb829' class='xr-var-attrs-in' type='checkbox' ><label for='attrs-5e1a9445-b3a9-4807-ae77-691498dbb829' title='Show/Hide attributes'><svg class='icon xr-icon-file-text2'><use xlink:href='#icon-file-text2'></use></svg></label><input id='data-1a00daf5-61be-4adf-9897-bc2340588770' class='xr-var-data-in' type='checkbox'><label for='data-1a00daf5-61be-4adf-9897-bc2340588770' title='Show/Hide data repr'><svg class='icon xr-icon-database'><use xlink:href='#icon-database'></use></svg></label><div class='xr-var-attrs'><dl class='xr-attrs'><dt><span>axis :</span></dt><dd>Y</dd><dt><span>long_name :</span></dt><dd>y coordinate of projection</dd><dt><span>standard_name :</span></dt><dd>projection_y_coordinate</dd><dt><span>units :</span></dt><dd>metre</dd></dl></div><div class='xr-var-data'><pre>array([5889300., 5889500., 5889700., ..., 5935900., 5936100., 5936300.])</pre></div></li><li class='xr-var-item'><div class='xr-var-name'><span class='xr-has-index'>x</span></div><div class='xr-var-dims'>(x)</div><div class='xr-var-dtype'>float64</div><div class='xr-var-preview xr-preview'>7.399e+05 7.397e+05 ... 6.967e+05</div><input id='attrs-390982ed-a4b7-4e19-810a-5f3884157be1' class='xr-var-attrs-in' type='checkbox' ><label for='attrs-390982ed-a4b7-4e19-810a-5f3884157be1' title='Show/Hide attributes'><svg class='icon xr-icon-file-text2'><use xlink:href='#icon-file-text2'></use></svg></label><input id='data-26046bf9-215c-42e9-b75a-f07f33324496' class='xr-var-data-in' type='checkbox'><label for='data-26046bf9-215c-42e9-b75a-f07f33324496' title='Show/Hide data repr'><svg class='icon xr-icon-database'><use xlink:href='#icon-database'></use></svg></label><div class='xr-var-attrs'><dl class='xr-attrs'><dt><span>axis :</span></dt><dd>X</dd><dt><span>long_name :</span></dt><dd>x coordinate of projection</dd><dt><span>standard_name :</span></dt><dd>projection_x_coordinate</dd><dt><span>units :</span></dt><dd>metre</dd></dl></div><div class='xr-var-data'><pre>array([739900., 739700., 739500., ..., 697100., 696900., 696700.])</pre></div></li><li class='xr-var-item'><div class='xr-var-name'><span class='xr-has-index'>data</span></div><div class='xr-var-dims'>(data)</div><div class='xr-var-dtype'>&lt;U66</div><div class='xr-var-preview xr-preview'>&#x27;Flyde Halite Base Depth XYZ Met...</div><input id='attrs-d47154c7-e6fe-409a-8aff-7fbc7c1bc658' class='xr-var-attrs-in' type='checkbox' disabled><label for='attrs-d47154c7-e6fe-409a-8aff-7fbc7c1bc658' title='Show/Hide attributes'><svg class='icon xr-icon-file-text2'><use xlink:href='#icon-file-text2'></use></svg></label><input id='data-36e9c1a8-6ef2-44f5-ab91-2705951ac067' class='xr-var-data-in' type='checkbox'><label for='data-36e9c1a8-6ef2-44f5-ab91-2705951ac067' title='Show/Hide data repr'><svg class='icon xr-icon-database'><use xlink:href='#icon-database'></use></svg></label><div class='xr-var-attrs'><dl class='xr-attrs'></dl></div><div class='xr-var-data'><pre>array([&#x27;Flyde Halite Base Depth XYZ Meters&#x27;,\n",
       "       &#x27;Flyde Halite Thickness - Zone Of Interest - XYZ Meters&#x27;,\n",
       "       &#x27;Flyde Halite Thickness XYZ Meters&#x27;,\n",
       "       &#x27;Flyde Halite Top Depth XYZ Meters&#x27;,\n",
       "       &#x27;Flyde Halite Top TWT XYZ Milliseconds&#x27;,\n",
       "       &#x27;Mythop Halite Base Depth XYZ Meters&#x27;,\n",
       "       &#x27;Mythop Halite Thickness XYZ Meters&#x27;,\n",
       "       &#x27;Mythop Halite Top Depth XYZ Meters&#x27;,\n",
       "       &#x27;Mythop Halite Top TWT XYZ Milliseconds&#x27;,\n",
       "       &#x27;Presall Halite Base Depth XYZ Meters-corrected&#x27;,\n",
       "       &#x27;Presall Halite Thickness - Zone Of Interest - XYZ Meters-corrected&#x27;,\n",
       "       &#x27;Presall Halite Thickness XYZ Meters-corrected&#x27;,\n",
       "       &#x27;Presall Halite Top Depth XYZ Meters-corrected&#x27;,\n",
       "       &#x27;Presall Halite Top TWT XYZ Milliseconds&#x27;,\n",
       "       &#x27;Rossall Halite Base Depth XYZ Meters&#x27;,\n",
       "       &#x27;Rossall Halite Thickness - Zone Of Interest - XYZ Meters&#x27;,\n",
       "       &#x27;Rossall Halite Thickness XYZ Meters&#x27;,\n",
       "       &#x27;Rossall Halite Top Depth XYZ Meters&#x27;,\n",
       "       &#x27;Rossall Halite Top TWT XYZ Milliseconds&#x27;], dtype=&#x27;&lt;U66&#x27;)</pre></div></li><li class='xr-var-item'><div class='xr-var-name'><span>spatial_ref</span></div><div class='xr-var-dims'>()</div><div class='xr-var-dtype'>int64</div><div class='xr-var-preview xr-preview'>0</div><input id='attrs-5a39bfc1-7c63-46d4-a1b4-97320289982c' class='xr-var-attrs-in' type='checkbox' ><label for='attrs-5a39bfc1-7c63-46d4-a1b4-97320289982c' title='Show/Hide attributes'><svg class='icon xr-icon-file-text2'><use xlink:href='#icon-file-text2'></use></svg></label><input id='data-03a4e820-ede9-46f5-9889-7d1c37281928' class='xr-var-data-in' type='checkbox'><label for='data-03a4e820-ede9-46f5-9889-7d1c37281928' title='Show/Hide data repr'><svg class='icon xr-icon-database'><use xlink:href='#icon-database'></use></svg></label><div class='xr-var-attrs'><dl class='xr-attrs'><dt><span>crs_wkt :</span></dt><dd>PROJCS[&quot;ED50 / UTM zone 29N&quot;,GEOGCS[&quot;ED50&quot;,DATUM[&quot;European_Datum_1950&quot;,SPHEROID[&quot;International 1924&quot;,6378388,297,AUTHORITY[&quot;EPSG&quot;,&quot;7022&quot;]],AUTHORITY[&quot;EPSG&quot;,&quot;6230&quot;]],PRIMEM[&quot;Greenwich&quot;,0,AUTHORITY[&quot;EPSG&quot;,&quot;8901&quot;]],UNIT[&quot;degree&quot;,0.0174532925199433,AUTHORITY[&quot;EPSG&quot;,&quot;9122&quot;]],AUTHORITY[&quot;EPSG&quot;,&quot;4230&quot;]],PROJECTION[&quot;Transverse_Mercator&quot;],PARAMETER[&quot;latitude_of_origin&quot;,0],PARAMETER[&quot;central_meridian&quot;,-9],PARAMETER[&quot;scale_factor&quot;,0.9996],PARAMETER[&quot;false_easting&quot;,500000],PARAMETER[&quot;false_northing&quot;,0],UNIT[&quot;metre&quot;,1,AUTHORITY[&quot;EPSG&quot;,&quot;9001&quot;]],AXIS[&quot;Easting&quot;,EAST],AXIS[&quot;Northing&quot;,NORTH],AUTHORITY[&quot;EPSG&quot;,&quot;23029&quot;]]</dd><dt><span>semi_major_axis :</span></dt><dd>6378388.0</dd><dt><span>semi_minor_axis :</span></dt><dd>6356911.9461279465</dd><dt><span>inverse_flattening :</span></dt><dd>297.0</dd><dt><span>reference_ellipsoid_name :</span></dt><dd>International 1924</dd><dt><span>longitude_of_prime_meridian :</span></dt><dd>0.0</dd><dt><span>prime_meridian_name :</span></dt><dd>Greenwich</dd><dt><span>geographic_crs_name :</span></dt><dd>ED50</dd><dt><span>horizontal_datum_name :</span></dt><dd>European Datum 1950</dd><dt><span>projected_crs_name :</span></dt><dd>ED50 / UTM zone 29N</dd><dt><span>grid_mapping_name :</span></dt><dd>transverse_mercator</dd><dt><span>latitude_of_projection_origin :</span></dt><dd>0.0</dd><dt><span>longitude_of_central_meridian :</span></dt><dd>-9.0</dd><dt><span>false_easting :</span></dt><dd>500000.0</dd><dt><span>false_northing :</span></dt><dd>0.0</dd><dt><span>scale_factor_at_central_meridian :</span></dt><dd>0.9996</dd><dt><span>spatial_ref :</span></dt><dd>PROJCS[&quot;ED50 / UTM zone 29N&quot;,GEOGCS[&quot;ED50&quot;,DATUM[&quot;European_Datum_1950&quot;,SPHEROID[&quot;International 1924&quot;,6378388,297,AUTHORITY[&quot;EPSG&quot;,&quot;7022&quot;]],AUTHORITY[&quot;EPSG&quot;,&quot;6230&quot;]],PRIMEM[&quot;Greenwich&quot;,0,AUTHORITY[&quot;EPSG&quot;,&quot;8901&quot;]],UNIT[&quot;degree&quot;,0.0174532925199433,AUTHORITY[&quot;EPSG&quot;,&quot;9122&quot;]],AUTHORITY[&quot;EPSG&quot;,&quot;4230&quot;]],PROJECTION[&quot;Transverse_Mercator&quot;],PARAMETER[&quot;latitude_of_origin&quot;,0],PARAMETER[&quot;central_meridian&quot;,-9],PARAMETER[&quot;scale_factor&quot;,0.9996],PARAMETER[&quot;false_easting&quot;,500000],PARAMETER[&quot;false_northing&quot;,0],UNIT[&quot;metre&quot;,1,AUTHORITY[&quot;EPSG&quot;,&quot;9001&quot;]],AXIS[&quot;Easting&quot;,EAST],AXIS[&quot;Northing&quot;,NORTH],AUTHORITY[&quot;EPSG&quot;,&quot;23029&quot;]]</dd><dt><span>GeoTransform :</span></dt><dd>740000.0 -200.0 0.0 5889200.0 0.0 200.0</dd></dl></div><div class='xr-var-data'><pre>array(0)</pre></div></li></ul></div></li><li class='xr-section-item'><input id='section-8cc1f6be-1377-4c79-a4d1-6465c53eb433' class='xr-section-summary-in' type='checkbox'  checked><label for='section-8cc1f6be-1377-4c79-a4d1-6465c53eb433' class='xr-section-summary' >Data variables: <span>(1)</span></label><div class='xr-section-inline-details'></div><div class='xr-section-details'><ul class='xr-var-list'><li class='xr-var-item'><div class='xr-var-name'><span>Z</span></div><div class='xr-var-dims'>(data, y, x)</div><div class='xr-var-dtype'>float64</div><div class='xr-var-preview xr-preview'>nan nan nan nan ... nan nan nan nan</div><input id='attrs-5ce8732a-9627-4f25-a1f1-a98e6ee1d748' class='xr-var-attrs-in' type='checkbox' ><label for='attrs-5ce8732a-9627-4f25-a1f1-a98e6ee1d748' title='Show/Hide attributes'><svg class='icon xr-icon-file-text2'><use xlink:href='#icon-file-text2'></use></svg></label><input id='data-587261c0-9b6d-4652-b3a8-b2d3578c34bf' class='xr-var-data-in' type='checkbox'><label for='data-587261c0-9b6d-4652-b3a8-b2d3578c34bf' title='Show/Hide data repr'><svg class='icon xr-icon-database'><use xlink:href='#icon-database'></use></svg></label><div class='xr-var-attrs'><dl class='xr-attrs'><dt><span>name :</span></dt><dd>Z</dd><dt><span>long_name :</span></dt><dd>Z</dd><dt><span>_FillValue :</span></dt><dd>nan</dd></dl></div><div class='xr-var-data'><pre>array([[[     nan,      nan,      nan, ...,      nan,      nan,\n",
       "              nan],\n",
       "        [     nan,      nan,      nan, ...,      nan,      nan,\n",
       "              nan],\n",
       "        [     nan,      nan,      nan, ...,      nan,      nan,\n",
       "              nan],\n",
       "        ...,\n",
       "        [     nan,      nan, 273.089 , ...,      nan,      nan,\n",
       "              nan],\n",
       "        [     nan,      nan,      nan, ...,      nan,      nan,\n",
       "              nan],\n",
       "        [     nan,      nan,      nan, ...,      nan,      nan,\n",
       "              nan]],\n",
       "\n",
       "       [[     nan,      nan,      nan, ...,      nan,      nan,\n",
       "              nan],\n",
       "        [     nan,      nan,      nan, ...,      nan,      nan,\n",
       "              nan],\n",
       "        [     nan,      nan,      nan, ...,      nan,      nan,\n",
       "              nan],\n",
       "...\n",
       "        [     nan,      nan, 273.089 , ...,      nan,      nan,\n",
       "              nan],\n",
       "        [     nan,      nan,      nan, ...,      nan,      nan,\n",
       "              nan],\n",
       "        [     nan,      nan,      nan, ...,      nan,      nan,\n",
       "              nan]],\n",
       "\n",
       "       [[     nan,      nan,      nan, ...,      nan,      nan,\n",
       "              nan],\n",
       "        [     nan,      nan,      nan, ...,      nan,      nan,\n",
       "              nan],\n",
       "        [     nan,      nan,      nan, ...,      nan,      nan,\n",
       "              nan],\n",
       "        ...,\n",
       "        [     nan,      nan, 306.5351, ...,      nan,      nan,\n",
       "              nan],\n",
       "        [     nan,      nan,      nan, ...,      nan,      nan,\n",
       "              nan],\n",
       "        [     nan,      nan,      nan, ...,      nan,      nan,\n",
       "              nan]]])</pre></div></li></ul></div></li><li class='xr-section-item'><input id='section-328dcf2b-1c66-4c60-b814-4183ccaa2f72' class='xr-section-summary-in' type='checkbox'  ><label for='section-328dcf2b-1c66-4c60-b814-4183ccaa2f72' class='xr-section-summary' >Indexes: <span>(3)</span></label><div class='xr-section-inline-details'></div><div class='xr-section-details'><ul class='xr-var-list'><li class='xr-var-item'><div class='xr-index-name'><div>y</div></div><div class='xr-index-preview'>PandasIndex</div><div></div><input id='index-168718b7-7ead-475e-9357-2e24e61ec5e3' class='xr-index-data-in' type='checkbox'/><label for='index-168718b7-7ead-475e-9357-2e24e61ec5e3' title='Show/Hide index repr'><svg class='icon xr-icon-database'><use xlink:href='#icon-database'></use></svg></label><div class='xr-index-data'><pre>PandasIndex(Index([5889300.0, 5889500.0, 5889700.0, 5889900.0, 5890100.0, 5890300.0,\n",
       "       5890500.0, 5890700.0, 5890900.0, 5891100.0,\n",
       "       ...\n",
       "       5934500.0, 5934700.0, 5934900.0, 5935100.0, 5935300.0, 5935500.0,\n",
       "       5935700.0, 5935900.0, 5936100.0, 5936300.0],\n",
       "      dtype=&#x27;float64&#x27;, name=&#x27;y&#x27;, length=236))</pre></div></li><li class='xr-var-item'><div class='xr-index-name'><div>x</div></div><div class='xr-index-preview'>PandasIndex</div><div></div><input id='index-10b21a95-a2a0-41f2-9963-d9fcfe93b153' class='xr-index-data-in' type='checkbox'/><label for='index-10b21a95-a2a0-41f2-9963-d9fcfe93b153' title='Show/Hide index repr'><svg class='icon xr-icon-database'><use xlink:href='#icon-database'></use></svg></label><div class='xr-index-data'><pre>PandasIndex(Index([739900.0, 739700.0, 739500.0, 739300.0, 739100.0, 738900.0, 738700.0,\n",
       "       738500.0, 738300.0, 738100.0,\n",
       "       ...\n",
       "       698500.0, 698300.0, 698100.0, 697900.0, 697700.0, 697500.0, 697300.0,\n",
       "       697100.0, 696900.0, 696700.0],\n",
       "      dtype=&#x27;float64&#x27;, name=&#x27;x&#x27;, length=217))</pre></div></li><li class='xr-var-item'><div class='xr-index-name'><div>data</div></div><div class='xr-index-preview'>PandasIndex</div><div></div><input id='index-599693d3-ec32-4234-85c0-09b6b17aaf0b' class='xr-index-data-in' type='checkbox'/><label for='index-599693d3-ec32-4234-85c0-09b6b17aaf0b' title='Show/Hide index repr'><svg class='icon xr-icon-database'><use xlink:href='#icon-database'></use></svg></label><div class='xr-index-data'><pre>PandasIndex(Index([&#x27;Flyde Halite Base Depth XYZ Meters&#x27;,\n",
       "       &#x27;Flyde Halite Thickness - Zone Of Interest - XYZ Meters&#x27;,\n",
       "       &#x27;Flyde Halite Thickness XYZ Meters&#x27;,\n",
       "       &#x27;Flyde Halite Top Depth XYZ Meters&#x27;,\n",
       "       &#x27;Flyde Halite Top TWT XYZ Milliseconds&#x27;,\n",
       "       &#x27;Mythop Halite Base Depth XYZ Meters&#x27;,\n",
       "       &#x27;Mythop Halite Thickness XYZ Meters&#x27;,\n",
       "       &#x27;Mythop Halite Top Depth XYZ Meters&#x27;,\n",
       "       &#x27;Mythop Halite Top TWT XYZ Milliseconds&#x27;,\n",
       "       &#x27;Presall Halite Base Depth XYZ Meters-corrected&#x27;,\n",
       "       &#x27;Presall Halite Thickness - Zone Of Interest - XYZ Meters-corrected&#x27;,\n",
       "       &#x27;Presall Halite Thickness XYZ Meters-corrected&#x27;,\n",
       "       &#x27;Presall Halite Top Depth XYZ Meters-corrected&#x27;,\n",
       "       &#x27;Presall Halite Top TWT XYZ Milliseconds&#x27;,\n",
       "       &#x27;Rossall Halite Base Depth XYZ Meters&#x27;,\n",
       "       &#x27;Rossall Halite Thickness - Zone Of Interest - XYZ Meters&#x27;,\n",
       "       &#x27;Rossall Halite Thickness XYZ Meters&#x27;,\n",
       "       &#x27;Rossall Halite Top Depth XYZ Meters&#x27;,\n",
       "       &#x27;Rossall Halite Top TWT XYZ Milliseconds&#x27;],\n",
       "      dtype=&#x27;object&#x27;, name=&#x27;data&#x27;))</pre></div></li></ul></div></li><li class='xr-section-item'><input id='section-e4703b9f-c1c0-4eff-95bc-cc234f343a90' class='xr-section-summary-in' type='checkbox' disabled ><label for='section-e4703b9f-c1c0-4eff-95bc-cc234f343a90' class='xr-section-summary'  title='Expand/collapse section'>Attributes: <span>(0)</span></label><div class='xr-section-inline-details'></div><div class='xr-section-details'><dl class='xr-attrs'></dl></div></li></ul></div></div>"
      ],
      "text/plain": [
       "<xarray.Dataset>\n",
       "Dimensions:      (data: 19, y: 236, x: 217)\n",
       "Coordinates:\n",
       "  * y            (y) float64 5.889e+06 5.89e+06 5.89e+06 ... 5.936e+06 5.936e+06\n",
       "  * x            (x) float64 7.399e+05 7.397e+05 ... 6.969e+05 6.967e+05\n",
       "  * data         (data) <U66 'Flyde Halite Base Depth XYZ Meters' ... 'Rossal...\n",
       "    spatial_ref  int64 0\n",
       "Data variables:\n",
       "    Z            (data, y, x) float64 nan nan nan nan nan ... nan nan nan nan"
      ]
     },
     "execution_count": 142,
     "metadata": {},
     "output_type": "execute_result"
    }
   ],
   "source": [
    "ds"
   ]
  },
  {
   "cell_type": "code",
   "execution_count": 143,
   "metadata": {},
   "outputs": [
    {
     "data": {
      "text/plain": [
       "CRS.from_epsg(23029)"
      ]
     },
     "execution_count": 143,
     "metadata": {},
     "output_type": "execute_result"
    }
   ],
   "source": [
    "ds.rio.crs"
   ]
  },
  {
   "cell_type": "code",
   "execution_count": 144,
   "metadata": {},
   "outputs": [
    {
     "data": {
      "text/plain": [
       "(-200.0, 200.0)"
      ]
     },
     "execution_count": 144,
     "metadata": {},
     "output_type": "execute_result"
    }
   ],
   "source": [
    "ds.rio.resolution()"
   ]
  },
  {
   "cell_type": "code",
   "execution_count": 155,
   "metadata": {},
   "outputs": [
    {
     "data": {
      "text/plain": [
       "(696600.0, 5889200.0, 740000.0, 5936400.0)"
      ]
     },
     "execution_count": 155,
     "metadata": {},
     "output_type": "execute_result"
    }
   ],
   "source": [
    "ds.rio.bounds()"
   ]
  },
  {
   "cell_type": "markdown",
   "metadata": {},
   "source": [
    "### Zone of interest points"
   ]
  },
  {
   "cell_type": "code",
   "execution_count": 145,
   "metadata": {},
   "outputs": [
    {
     "data": {
      "text/plain": [
       "(977, 3)"
      ]
     },
     "execution_count": 145,
     "metadata": {},
     "output_type": "execute_result"
    }
   ],
   "source": [
    "gdf.shape"
   ]
  },
  {
   "cell_type": "code",
   "execution_count": 146,
   "metadata": {},
   "outputs": [
    {
     "data": {
      "text/html": [
       "<div>\n",
       "<style scoped>\n",
       "    .dataframe tbody tr th:only-of-type {\n",
       "        vertical-align: middle;\n",
       "    }\n",
       "\n",
       "    .dataframe tbody tr th {\n",
       "        vertical-align: top;\n",
       "    }\n",
       "\n",
       "    .dataframe thead th {\n",
       "        text-align: right;\n",
       "    }\n",
       "</style>\n",
       "<table border=\"1\" class=\"dataframe\">\n",
       "  <thead>\n",
       "    <tr style=\"text-align: right;\">\n",
       "      <th></th>\n",
       "      <th>Z</th>\n",
       "      <th>data</th>\n",
       "      <th>geometry</th>\n",
       "    </tr>\n",
       "  </thead>\n",
       "  <tbody>\n",
       "    <tr>\n",
       "      <th>0</th>\n",
       "      <td>315.3059</td>\n",
       "      <td>Flyde Halite Thickness - Zone Of Interest - XY...</td>\n",
       "      <td>POINT (708600.000 5919600.000)</td>\n",
       "    </tr>\n",
       "    <tr>\n",
       "      <th>1</th>\n",
       "      <td>313.1337</td>\n",
       "      <td>Flyde Halite Thickness - Zone Of Interest - XY...</td>\n",
       "      <td>POINT (708600.000 5919400.000)</td>\n",
       "    </tr>\n",
       "    <tr>\n",
       "      <th>2</th>\n",
       "      <td>308.6101</td>\n",
       "      <td>Flyde Halite Thickness - Zone Of Interest - XY...</td>\n",
       "      <td>POINT (708800.000 5919400.000)</td>\n",
       "    </tr>\n",
       "    <tr>\n",
       "      <th>3</th>\n",
       "      <td>300.9216</td>\n",
       "      <td>Flyde Halite Thickness - Zone Of Interest - XY...</td>\n",
       "      <td>POINT (708800.000 5919200.000)</td>\n",
       "    </tr>\n",
       "    <tr>\n",
       "      <th>4</th>\n",
       "      <td>322.6699</td>\n",
       "      <td>Flyde Halite Thickness - Zone Of Interest - XY...</td>\n",
       "      <td>POINT (716400.000 5924400.000)</td>\n",
       "    </tr>\n",
       "  </tbody>\n",
       "</table>\n",
       "</div>"
      ],
      "text/plain": [
       "          Z                                               data  \\\n",
       "0  315.3059  Flyde Halite Thickness - Zone Of Interest - XY...   \n",
       "1  313.1337  Flyde Halite Thickness - Zone Of Interest - XY...   \n",
       "2  308.6101  Flyde Halite Thickness - Zone Of Interest - XY...   \n",
       "3  300.9216  Flyde Halite Thickness - Zone Of Interest - XY...   \n",
       "4  322.6699  Flyde Halite Thickness - Zone Of Interest - XY...   \n",
       "\n",
       "                         geometry  \n",
       "0  POINT (708600.000 5919600.000)  \n",
       "1  POINT (708600.000 5919400.000)  \n",
       "2  POINT (708800.000 5919400.000)  \n",
       "3  POINT (708800.000 5919200.000)  \n",
       "4  POINT (716400.000 5924400.000)  "
      ]
     },
     "execution_count": 146,
     "metadata": {},
     "output_type": "execute_result"
    }
   ],
   "source": [
    "gdf.head()"
   ]
  },
  {
   "cell_type": "code",
   "execution_count": 148,
   "metadata": {},
   "outputs": [
    {
     "data": {
      "image/png": "[encoded data removed]",
      "text/plain": [
       "<Figure size 614.4x460.8 with 1 Axes>"
      ]
     },
     "metadata": {},
     "output_type": "display_data"
    }
   ],
   "source": [
    "ax = gdf.plot(markersize=.25)\n",
    "extent.boundary.plot(ax=ax, color=\"darkslategrey\")\n",
    "plt.tick_params(labelbottom=False, labelleft=False)\n",
    "plt.tight_layout()\n",
    "plt.show()"
   ]
  },
  {
   "cell_type": "markdown",
   "metadata": {},
   "source": [
    "### Zone of interest boundaries"
   ]
  },
  {
   "cell_type": "code",
   "execution_count": 150,
   "metadata": {},
   "outputs": [],
   "source": [
    "zones = gpd.GeoSeries(gdf[\"geometry\"].buffer(200).unary_union, crs=crs)"
   ]
  },
  {
   "cell_type": "code",
   "execution_count": 151,
   "metadata": {},
   "outputs": [
    {
     "data": {
      "text/plain": [
       "0    MULTIPOLYGON (((702526.879 5898845.398, 702511...\n",
       "dtype: geometry"
      ]
     },
     "execution_count": 151,
     "metadata": {},
     "output_type": "execute_result"
    }
   ],
   "source": [
    "zones"
   ]
  },
  {
   "cell_type": "code",
   "execution_count": 152,
   "metadata": {},
   "outputs": [
    {
     "data": {
      "text/html": [
       "<div>\n",
       "<style scoped>\n",
       "    .dataframe tbody tr th:only-of-type {\n",
       "        vertical-align: middle;\n",
       "    }\n",
       "\n",
       "    .dataframe tbody tr th {\n",
       "        vertical-align: top;\n",
       "    }\n",
       "\n",
       "    .dataframe thead th {\n",
       "        text-align: right;\n",
       "    }\n",
       "</style>\n",
       "<table border=\"1\" class=\"dataframe\">\n",
       "  <thead>\n",
       "    <tr style=\"text-align: right;\">\n",
       "      <th></th>\n",
       "      <th>minx</th>\n",
       "      <th>miny</th>\n",
       "      <th>maxx</th>\n",
       "      <th>maxy</th>\n",
       "    </tr>\n",
       "  </thead>\n",
       "  <tbody>\n",
       "    <tr>\n",
       "      <th>0</th>\n",
       "      <td>697800.0</td>\n",
       "      <td>5894000.0</td>\n",
       "      <td>727000.0</td>\n",
       "      <td>5929600.0</td>\n",
       "    </tr>\n",
       "  </tbody>\n",
       "</table>\n",
       "</div>"
      ],
      "text/plain": [
       "       minx       miny      maxx       maxy\n",
       "0  697800.0  5894000.0  727000.0  5929600.0"
      ]
     },
     "execution_count": 152,
     "metadata": {},
     "output_type": "execute_result"
    }
   ],
   "source": [
    "zones.bounds"
   ]
  },
  {
   "cell_type": "code",
   "execution_count": 156,
   "metadata": {},
   "outputs": [
    {
     "data": {
      "image/png": "[encoded data removed]",
      "text/plain": [
       "<Figure size 614.4x460.8 with 1 Axes>"
      ]
     },
     "metadata": {},
     "output_type": "display_data"
    }
   ],
   "source": [
    "ax = zones.boundary.plot(linewidth=1)\n",
    "extent.boundary.plot(ax=ax, color=\"darkslategrey\")\n",
    "plt.tick_params(labelbottom=False, labelleft=False)\n",
    "plt.tight_layout()\n",
    "plt.show()"
   ]
  },
  {
   "cell_type": "markdown",
   "metadata": {},
   "source": [
    "### Cavern specifications"
   ]
  },
  {
   "cell_type": "code",
   "execution_count": 158,
   "metadata": {},
   "outputs": [],
   "source": [
    "# cavern specifications\n",
    "diameter = 84\n",
    "separation = diameter * 4"
   ]
  },
  {
   "cell_type": "code",
   "execution_count": 159,
   "metadata": {},
   "outputs": [
    {
     "data": {
      "text/plain": [
       "336"
      ]
     },
     "execution_count": 159,
     "metadata": {},
     "output_type": "execute_result"
    }
   ],
   "source": [
    "separation"
   ]
  },
  {
   "cell_type": "markdown",
   "metadata": {},
   "source": [
    "### Generate salt cavern grid using extent"
   ]
  },
  {
   "cell_type": "code",
   "execution_count": 160,
   "metadata": {},
   "outputs": [],
   "source": [
    "xmin, ymin, xmax, ymax = (\n",
    "    extent.bounds[\"minx\"][0], extent.bounds[\"miny\"][0],\n",
    "    extent.bounds[\"maxx\"][0], extent.bounds[\"maxy\"][0]\n",
    ")"
   ]
  },
  {
   "cell_type": "code",
   "execution_count": 161,
   "metadata": {},
   "outputs": [],
   "source": [
    "# create the cells in a loop\n",
    "grid_cells = []\n",
    "for x0 in np.arange(xmin, xmax + separation, separation):\n",
    "    for y0 in np.arange(ymin, ymax + separation, separation):\n",
    "        # bounds\n",
    "        x1 = x0 - separation\n",
    "        y1 = y0 + separation\n",
    "        grid_cells.append(shapely.geometry.box(x0, y0, x1, y1))\n",
    "grid_cells = gpd.GeoDataFrame(grid_cells, columns=[\"geometry\"], crs=crs)"
   ]
  },
  {
   "cell_type": "code",
   "execution_count": 163,
   "metadata": {},
   "outputs": [
    {
     "data": {
      "text/plain": [
       "(336.0, -336.0)"
      ]
     },
     "execution_count": 163,
     "metadata": {},
     "output_type": "execute_result"
    }
   ],
   "source": [
    "# verify separation distance\n",
    "x0 - x1, y0 - y1"
   ]
  },
  {
   "cell_type": "code",
   "execution_count": 165,
   "metadata": {},
   "outputs": [
    {
     "data": {
      "text/html": [
       "<div>\n",
       "<style scoped>\n",
       "    .dataframe tbody tr th:only-of-type {\n",
       "        vertical-align: middle;\n",
       "    }\n",
       "\n",
       "    .dataframe tbody tr th {\n",
       "        vertical-align: top;\n",
       "    }\n",
       "\n",
       "    .dataframe thead th {\n",
       "        text-align: right;\n",
       "    }\n",
       "</style>\n",
       "<table border=\"1\" class=\"dataframe\">\n",
       "  <thead>\n",
       "    <tr style=\"text-align: right;\">\n",
       "      <th></th>\n",
       "      <th>geometry</th>\n",
       "    </tr>\n",
       "  </thead>\n",
       "  <tbody>\n",
       "    <tr>\n",
       "      <th>0</th>\n",
       "      <td>POLYGON ((686664.000 5888000.000, 686664.000 5...</td>\n",
       "    </tr>\n",
       "    <tr>\n",
       "      <th>1</th>\n",
       "      <td>POLYGON ((686664.000 5888336.000, 686664.000 5...</td>\n",
       "    </tr>\n",
       "    <tr>\n",
       "      <th>2</th>\n",
       "      <td>POLYGON ((686664.000 5888672.000, 686664.000 5...</td>\n",
       "    </tr>\n",
       "    <tr>\n",
       "      <th>3</th>\n",
       "      <td>POLYGON ((686664.000 5889008.000, 686664.000 5...</td>\n",
       "    </tr>\n",
       "    <tr>\n",
       "      <th>4</th>\n",
       "      <td>POLYGON ((686664.000 5889344.000, 686664.000 5...</td>\n",
       "    </tr>\n",
       "  </tbody>\n",
       "</table>\n",
       "</div>"
      ],
      "text/plain": [
       "                                            geometry\n",
       "0  POLYGON ((686664.000 5888000.000, 686664.000 5...\n",
       "1  POLYGON ((686664.000 5888336.000, 686664.000 5...\n",
       "2  POLYGON ((686664.000 5888672.000, 686664.000 5...\n",
       "3  POLYGON ((686664.000 5889008.000, 686664.000 5...\n",
       "4  POLYGON ((686664.000 5889344.000, 686664.000 5..."
      ]
     },
     "execution_count": 165,
     "metadata": {},
     "output_type": "execute_result"
    }
   ],
   "source": [
    "grid_cells.head()"
   ]
  },
  {
   "cell_type": "code",
   "execution_count": 166,
   "metadata": {},
   "outputs": [
    {
     "data": {
      "text/plain": [
       "(24255, 1)"
      ]
     },
     "execution_count": 166,
     "metadata": {},
     "output_type": "execute_result"
    }
   ],
   "source": [
    "grid_cells.shape"
   ]
  },
  {
   "cell_type": "code",
   "execution_count": 168,
   "metadata": {},
   "outputs": [
    {
     "data": {
      "image/png": "[encoded data removed]",
      "text/plain": [
       "<Figure size 614.4x460.8 with 1 Axes>"
      ]
     },
     "metadata": {},
     "output_type": "display_data"
    }
   ],
   "source": [
    "ax = grid_cells.boundary.plot(linewidth=.5)\n",
    "zones.boundary.plot(ax=ax, linewidth=1, color=\"darkslategrey\")\n",
    "plt.tick_params(labelbottom=False, labelleft=False)\n",
    "plt.tight_layout()\n",
    "plt.show()"
   ]
  },
  {
   "cell_type": "markdown",
   "metadata": {},
   "source": [
    "### Caverns in zone of interest"
   ]
  },
  {
   "cell_type": "code",
   "execution_count": 170,
   "metadata": {},
   "outputs": [],
   "source": [
    "caverns = gpd.GeoDataFrame(\n",
    "    geometry=grid_cells.centroid.buffer(diameter / 2)\n",
    ").overlay(\n",
    "    gpd.GeoDataFrame(geometry=zones), how=\"intersection\",  # keep_geom_type=False\n",
    ")"
   ]
  },
  {
   "cell_type": "code",
   "execution_count": 171,
   "metadata": {},
   "outputs": [
    {
     "data": {
      "text/html": [
       "<div>\n",
       "<style scoped>\n",
       "    .dataframe tbody tr th:only-of-type {\n",
       "        vertical-align: middle;\n",
       "    }\n",
       "\n",
       "    .dataframe tbody tr th {\n",
       "        vertical-align: top;\n",
       "    }\n",
       "\n",
       "    .dataframe thead th {\n",
       "        text-align: right;\n",
       "    }\n",
       "</style>\n",
       "<table border=\"1\" class=\"dataframe\">\n",
       "  <thead>\n",
       "    <tr style=\"text-align: right;\">\n",
       "      <th></th>\n",
       "      <th>geometry</th>\n",
       "    </tr>\n",
       "  </thead>\n",
       "  <tbody>\n",
       "    <tr>\n",
       "      <th>0</th>\n",
       "      <td>POLYGON ((697920.000 5906018.000, 697924.117 5...</td>\n",
       "    </tr>\n",
       "    <tr>\n",
       "      <th>1</th>\n",
       "      <td>POLYGON ((697961.798 5906307.883, 697961.193 5...</td>\n",
       "    </tr>\n",
       "    <tr>\n",
       "      <th>2</th>\n",
       "      <td>POLYGON ((698223.534 5906002.645, 698226.302 5...</td>\n",
       "    </tr>\n",
       "    <tr>\n",
       "      <th>3</th>\n",
       "      <td>POLYGON ((698297.798 5906307.883, 698297.193 5...</td>\n",
       "    </tr>\n",
       "    <tr>\n",
       "      <th>4</th>\n",
       "      <td>POLYGON ((698297.798 5906643.883, 698297.193 5...</td>\n",
       "    </tr>\n",
       "  </tbody>\n",
       "</table>\n",
       "</div>"
      ],
      "text/plain": [
       "                                            geometry\n",
       "0  POLYGON ((697920.000 5906018.000, 697924.117 5...\n",
       "1  POLYGON ((697961.798 5906307.883, 697961.193 5...\n",
       "2  POLYGON ((698223.534 5906002.645, 698226.302 5...\n",
       "3  POLYGON ((698297.798 5906307.883, 698297.193 5...\n",
       "4  POLYGON ((698297.798 5906643.883, 698297.193 5..."
      ]
     },
     "execution_count": 171,
     "metadata": {},
     "output_type": "execute_result"
    }
   ],
   "source": [
    "caverns.head()"
   ]
  },
  {
   "cell_type": "code",
   "execution_count": 172,
   "metadata": {},
   "outputs": [
    {
     "data": {
      "text/plain": [
       "(498, 1)"
      ]
     },
     "execution_count": 172,
     "metadata": {},
     "output_type": "execute_result"
    }
   ],
   "source": [
    "caverns.shape"
   ]
  },
  {
   "cell_type": "code",
   "execution_count": 175,
   "metadata": {},
   "outputs": [
    {
     "data": {
      "image/png": "[encoded data removed]",
      "text/plain": [
       "<Figure size 614.4x460.8 with 1 Axes>"
      ]
     },
     "metadata": {},
     "output_type": "display_data"
    }
   ],
   "source": [
    "ax = caverns.centroid.plot(markersize=1)\n",
    "zones.boundary.plot(ax=ax, linewidth=1, color=\"darkslategrey\")\n",
    "plt.tick_params(labelbottom=False, labelleft=False)\n",
    "plt.tight_layout()\n",
    "plt.show()"
   ]
  },
  {
   "cell_type": "code",
   "execution_count": 180,
   "metadata": {},
   "outputs": [
    {
     "data": {
      "image/png": "[encoded data removed]",
      "text/plain": [
       "<Figure size 864x672 with 2 Axes>"
      ]
     },
     "metadata": {},
     "output_type": "display_data"
    }
   ],
   "source": [
    "plt.figure(figsize=(9, 7))\n",
    "ax = plt.axes(projection=ccrs.epsg(crs))\n",
    "ds.sel(data=\"Rossall Halite Thickness XYZ Meters\")[\"Z\"].plot.contourf(\n",
    "    ax=ax,\n",
    "    cmap=\"jet\",\n",
    "    alpha=.25,\n",
    "    robust=True,\n",
    "    levels=15,\n",
    "    transform=ccrs.epsg(crs),\n",
    "    xlim=(687000, 742000),\n",
    "    ylim=(5888000, 5937000),\n",
    ")\n",
    "caverns.centroid.plot(ax=ax, markersize=2, marker=\".\", color=\"black\")\n",
    "ie.to_crs(crs).boundary.plot(ax=ax, edgecolor=\"darkslategrey\", linewidth=.5)\n",
    "plt.title(\"\")\n",
    "plt.tight_layout()\n",
    "plt.show()"
   ]
  }
 ],
 "metadata": {
  "kernelspec": {
   "display_name": "ClimAg",
   "language": "python",
   "name": "python3"
  },
  "language_info": {
   "codemirror_mode": {
    "name": "ipython",
    "version": 3
   },
   "file_extension": ".py",
   "mimetype": "text/x-python",
   "name": "python",
   "nbconvert_exporter": "python",
   "pygments_lexer": "ipython3",
   "version": "3.11.5"
  },
  "orig_nbformat": 4
 },
 "nbformat": 4,
 "nbformat_minor": 2
}
