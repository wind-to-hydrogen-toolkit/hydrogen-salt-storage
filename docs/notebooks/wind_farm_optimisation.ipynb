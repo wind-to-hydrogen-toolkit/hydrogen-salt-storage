{
 "cells": [
  {
   "cell_type": "markdown",
   "metadata": {},
   "source": [
    "# Wind farm optimisation"
   ]
  },
  {
   "cell_type": "code",
   "execution_count": 1,
   "metadata": {},
   "outputs": [],
   "source": [
    "import importlib\n",
    "import os\n",
    "\n",
    "import matplotlib.pyplot as plt\n",
    "import pandas as pd\n",
    "import seaborn as sns\n",
    "\n",
    "from src import functions as fns\n",
    "from src import optimisation as opt\n",
    "from src import data as rd"
   ]
  },
  {
   "cell_type": "markdown",
   "metadata": {},
   "source": [
    "## Power curve [MW] and Weibull wind speed distribution"
   ]
  },
  {
   "cell_type": "code",
   "execution_count": 2,
   "metadata": {},
   "outputs": [],
   "source": [
    "extent = rd.kish_basin_extent(dat_path=os.path.join(\"data\", \"kish-basin\"))"
   ]
  },
  {
   "cell_type": "code",
   "execution_count": 3,
   "metadata": {},
   "outputs": [],
   "source": [
    "# extract data for wind farms at 150 m\n",
    "weibull = fns.read_weibull_data(\n",
    "    data_path_weibull=os.path.join(\n",
    "        \"data\", \"weibull-parameters-wind-speeds\", \"Weibull_150m_params_ITM.zip\"\n",
    "    ),\n",
    "    data_path_wind_farms=os.path.join(\n",
    "        \"data\", \"wind-farms\", \"wind-farms-foreshore-process.zip\"\n",
    "    ),\n",
    "    dat_extent=extent,\n",
    ")"
   ]
  },
  {
   "cell_type": "code",
   "execution_count": 4,
   "metadata": {},
   "outputs": [
    {
     "data": {
      "text/html": [
       "<div>\n",
       "<style scoped>\n",
       "    .dataframe tbody tr th:only-of-type {\n",
       "        vertical-align: middle;\n",
       "    }\n",
       "\n",
       "    .dataframe tbody tr th {\n",
       "        vertical-align: top;\n",
       "    }\n",
       "\n",
       "    .dataframe thead th {\n",
       "        text-align: right;\n",
       "    }\n",
       "</style>\n",
       "<table border=\"1\" class=\"dataframe\">\n",
       "  <thead>\n",
       "    <tr style=\"text-align: right;\">\n",
       "      <th></th>\n",
       "      <th>Name</th>\n",
       "      <th>(c, min)</th>\n",
       "      <th>(c, max)</th>\n",
       "      <th>(c, mean)</th>\n",
       "      <th>(k, min)</th>\n",
       "      <th>(k, max)</th>\n",
       "      <th>(k, mean)</th>\n",
       "    </tr>\n",
       "  </thead>\n",
       "  <tbody>\n",
       "    <tr>\n",
       "      <th>0</th>\n",
       "      <td>Codling Wind Park</td>\n",
       "      <td>10.3</td>\n",
       "      <td>10.8</td>\n",
       "      <td>10.550000</td>\n",
       "      <td>1.9</td>\n",
       "      <td>2.0</td>\n",
       "      <td>1.95</td>\n",
       "    </tr>\n",
       "    <tr>\n",
       "      <th>1</th>\n",
       "      <td>Dublin Array</td>\n",
       "      <td>9.9</td>\n",
       "      <td>10.6</td>\n",
       "      <td>10.292857</td>\n",
       "      <td>1.9</td>\n",
       "      <td>2.0</td>\n",
       "      <td>1.95</td>\n",
       "    </tr>\n",
       "    <tr>\n",
       "      <th>2</th>\n",
       "      <td>North Irish Sea Array (NISA)</td>\n",
       "      <td>10.4</td>\n",
       "      <td>11.1</td>\n",
       "      <td>10.806250</td>\n",
       "      <td>2.1</td>\n",
       "      <td>2.2</td>\n",
       "      <td>2.12</td>\n",
       "    </tr>\n",
       "  </tbody>\n",
       "</table>\n",
       "</div>"
      ],
      "text/plain": [
       "                           Name  (c, min)  (c, max)  (c, mean)  (k, min)  \\\n",
       "0             Codling Wind Park      10.3      10.8  10.550000       1.9   \n",
       "1                  Dublin Array       9.9      10.6  10.292857       1.9   \n",
       "2  North Irish Sea Array (NISA)      10.4      11.1  10.806250       2.1   \n",
       "\n",
       "   (k, max)  (k, mean)  \n",
       "0       2.0       1.95  \n",
       "1       2.0       1.95  \n",
       "2       2.2       2.12  "
      ]
     },
     "execution_count": 4,
     "metadata": {},
     "output_type": "execute_result"
    }
   ],
   "source": [
    "weibull"
   ]
  },
  {
   "cell_type": "code",
   "execution_count": 4,
   "metadata": {},
   "outputs": [],
   "source": [
    "ref_data = {}"
   ]
  },
  {
   "cell_type": "code",
   "execution_count": 5,
   "metadata": {},
   "outputs": [],
   "source": [
    "# generate Weibull distribution\n",
    "for n in weibull[\"Name\"]:\n",
    "    ref_data[n] = {}\n",
    "    ref_data[n][\"wind_speed\"] = [0 + 0.01 * n for n in range(3100)]\n",
    "    ref_data[n][\"power_curve\"] = []\n",
    "    ref_data[n][n] = []\n",
    "    for v in ref_data[n][\"wind_speed\"]:\n",
    "        ref_data[n][\"power_curve\"].append(opt.ref_power_curve(v=v))\n",
    "        ref_data[n][n].append(\n",
    "            opt.weibull_probability_distribution(\n",
    "                v=v,\n",
    "                k=weibull[weibull[\"Name\"] == n][(\"k\", \"mean\")].iloc[0],\n",
    "                c=weibull[weibull[\"Name\"] == n][(\"c\", \"mean\")].iloc[0],\n",
    "            )\n",
    "        )\n",
    "    ref_data[n] = pd.DataFrame(ref_data[n])"
   ]
  },
  {
   "cell_type": "code",
   "execution_count": 6,
   "metadata": {},
   "outputs": [],
   "source": [
    "ref_data = pd.concat(ref_data.values(), axis=1).T.drop_duplicates().T"
   ]
  },
  {
   "cell_type": "code",
   "execution_count": 8,
   "metadata": {},
   "outputs": [
    {
     "data": {
      "text/html": [
       "<div>\n",
       "<style scoped>\n",
       "    .dataframe tbody tr th:only-of-type {\n",
       "        vertical-align: middle;\n",
       "    }\n",
       "\n",
       "    .dataframe tbody tr th {\n",
       "        vertical-align: top;\n",
       "    }\n",
       "\n",
       "    .dataframe thead th {\n",
       "        text-align: right;\n",
       "    }\n",
       "</style>\n",
       "<table border=\"1\" class=\"dataframe\">\n",
       "  <thead>\n",
       "    <tr style=\"text-align: right;\">\n",
       "      <th></th>\n",
       "      <th>wind_speed</th>\n",
       "      <th>power_curve</th>\n",
       "      <th>Codling Wind Park</th>\n",
       "      <th>Dublin Array</th>\n",
       "      <th>North Irish Sea Array (NISA)</th>\n",
       "    </tr>\n",
       "  </thead>\n",
       "  <tbody>\n",
       "    <tr>\n",
       "      <th>0</th>\n",
       "      <td>0.00</td>\n",
       "      <td>0.0</td>\n",
       "      <td>0.000000</td>\n",
       "      <td>0.000000</td>\n",
       "      <td>0.000000</td>\n",
       "    </tr>\n",
       "    <tr>\n",
       "      <th>1</th>\n",
       "      <td>0.01</td>\n",
       "      <td>0.0</td>\n",
       "      <td>0.000248</td>\n",
       "      <td>0.000260</td>\n",
       "      <td>0.000079</td>\n",
       "    </tr>\n",
       "    <tr>\n",
       "      <th>2</th>\n",
       "      <td>0.02</td>\n",
       "      <td>0.0</td>\n",
       "      <td>0.000479</td>\n",
       "      <td>0.000503</td>\n",
       "      <td>0.000171</td>\n",
       "    </tr>\n",
       "    <tr>\n",
       "      <th>3</th>\n",
       "      <td>0.03</td>\n",
       "      <td>0.0</td>\n",
       "      <td>0.000705</td>\n",
       "      <td>0.000739</td>\n",
       "      <td>0.000269</td>\n",
       "    </tr>\n",
       "    <tr>\n",
       "      <th>4</th>\n",
       "      <td>0.04</td>\n",
       "      <td>0.0</td>\n",
       "      <td>0.000926</td>\n",
       "      <td>0.000972</td>\n",
       "      <td>0.000371</td>\n",
       "    </tr>\n",
       "  </tbody>\n",
       "</table>\n",
       "</div>"
      ],
      "text/plain": [
       "   wind_speed  power_curve  Codling Wind Park  Dublin Array  \\\n",
       "0        0.00          0.0           0.000000      0.000000   \n",
       "1        0.01          0.0           0.000248      0.000260   \n",
       "2        0.02          0.0           0.000479      0.000503   \n",
       "3        0.03          0.0           0.000705      0.000739   \n",
       "4        0.04          0.0           0.000926      0.000972   \n",
       "\n",
       "   North Irish Sea Array (NISA)  \n",
       "0                      0.000000  \n",
       "1                      0.000079  \n",
       "2                      0.000171  \n",
       "3                      0.000269  \n",
       "4                      0.000371  "
      ]
     },
     "execution_count": 8,
     "metadata": {},
     "output_type": "execute_result"
    }
   ],
   "source": [
    "ref_data.head()"
   ]
  },
  {
   "cell_type": "code",
   "execution_count": 9,
   "metadata": {},
   "outputs": [
    {
     "data": {
      "image/png": "[encoded data removed]",
      "text/plain": [
       "<Figure size 1152x576 with 1 Axes>"
      ]
     },
     "metadata": {},
     "output_type": "display_data"
    }
   ],
   "source": [
    "ax = ref_data.plot(\n",
    "    x=\"wind_speed\",\n",
    "    y=\"power_curve\",\n",
    "    ylabel=\"Power [MW]\",\n",
    "    linewidth=3,\n",
    "    color=\"crimson\",\n",
    "    figsize=(12, 6),\n",
    "    legend=False,\n",
    ")\n",
    "ax.set_xlabel(\"Wind speed [m s\\N{SUPERSCRIPT MINUS}\\N{SUPERSCRIPT ONE}]\")\n",
    "ax.set_ylabel(\"Power [MW]\")\n",
    "sns.despine()"
   ]
  },
  {
   "cell_type": "code",
   "execution_count": 10,
   "metadata": {},
   "outputs": [
    {
     "data": {
      "image/png": "[encoded data removed]",
      "text/plain": [
       "<Figure size 1152x576 with 1 Axes>"
      ]
     },
     "metadata": {},
     "output_type": "display_data"
    }
   ],
   "source": [
    "ax = ref_data.drop(columns=[\"power_curve\"]).plot(\n",
    "    x=\"wind_speed\",\n",
    "    cmap=\"flare_r\",\n",
    "    figsize=(12, 6),\n",
    "    linestyle=\"dashed\",\n",
    "    linewidth=2,\n",
    "    alpha=0.85,\n",
    ")\n",
    "ax.set_xlabel(\"Wind speed [m s\\N{SUPERSCRIPT MINUS}\\N{SUPERSCRIPT ONE}]\")\n",
    "ax.set_ylabel(\n",
    "    \"Weibull probability distribution function \"\n",
    "    \"[s m\\N{SUPERSCRIPT MINUS}\\N{SUPERSCRIPT ONE}]\"\n",
    ")\n",
    "sns.despine()"
   ]
  },
  {
   "cell_type": "markdown",
   "metadata": {},
   "source": [
    "## Annual energy production [MWh]"
   ]
  },
  {
   "cell_type": "code",
   "execution_count": 7,
   "metadata": {},
   "outputs": [],
   "source": [
    "# max wind farm capacity\n",
    "weibull[\"capacity\"] = [1300, 824, 500]"
   ]
  },
  {
   "cell_type": "code",
   "execution_count": 8,
   "metadata": {},
   "outputs": [],
   "source": [
    "# number of 15 MW turbines, rounded down to the nearest integer\n",
    "weibull[\"n_turbines\"] = (weibull[\"capacity\"] / 15).astype(int)"
   ]
  },
  {
   "cell_type": "code",
   "execution_count": 9,
   "metadata": {},
   "outputs": [],
   "source": [
    "aep = []\n",
    "integral = []\n",
    "abserr = []\n",
    "for n in weibull[\"Name\"]:\n",
    "    aepwt = opt.annual_energy_production(\n",
    "        n_turbines=weibull[weibull[\"Name\"] == n][\"n_turbines\"].iloc[0],\n",
    "        k=weibull[weibull[\"Name\"] == n][(\"k\", \"mean\")].iloc[0],\n",
    "        c=weibull[weibull[\"Name\"] == n][(\"c\", \"mean\")].iloc[0],\n",
    "    )\n",
    "    aep.append(aepwt)"
   ]
  },
  {
   "cell_type": "code",
   "execution_count": 10,
   "metadata": {},
   "outputs": [],
   "source": [
    "aep = pd.DataFrame(aep)\n",
    "aep.columns = [\"AEP\", \"integral\", \"abserr\"]"
   ]
  },
  {
   "cell_type": "code",
   "execution_count": 11,
   "metadata": {},
   "outputs": [],
   "source": [
    "aep = pd.concat([weibull, aep], axis=1)"
   ]
  },
  {
   "cell_type": "code",
   "execution_count": 16,
   "metadata": {},
   "outputs": [
    {
     "data": {
      "text/html": [
       "<div>\n",
       "<style scoped>\n",
       "    .dataframe tbody tr th:only-of-type {\n",
       "        vertical-align: middle;\n",
       "    }\n",
       "\n",
       "    .dataframe tbody tr th {\n",
       "        vertical-align: top;\n",
       "    }\n",
       "\n",
       "    .dataframe thead th {\n",
       "        text-align: right;\n",
       "    }\n",
       "</style>\n",
       "<table border=\"1\" class=\"dataframe\">\n",
       "  <thead>\n",
       "    <tr style=\"text-align: right;\">\n",
       "      <th></th>\n",
       "      <th>Name</th>\n",
       "      <th>(c, min)</th>\n",
       "      <th>(c, max)</th>\n",
       "      <th>(c, mean)</th>\n",
       "      <th>(k, min)</th>\n",
       "      <th>(k, max)</th>\n",
       "      <th>(k, mean)</th>\n",
       "      <th>capacity</th>\n",
       "      <th>n_turbines</th>\n",
       "      <th>AEP</th>\n",
       "      <th>integral</th>\n",
       "      <th>abserr</th>\n",
       "    </tr>\n",
       "  </thead>\n",
       "  <tbody>\n",
       "    <tr>\n",
       "      <th>0</th>\n",
       "      <td>Codling Wind Park</td>\n",
       "      <td>10.3</td>\n",
       "      <td>10.8</td>\n",
       "      <td>10.550000</td>\n",
       "      <td>1.9</td>\n",
       "      <td>2.0</td>\n",
       "      <td>1.95</td>\n",
       "      <td>1300</td>\n",
       "      <td>86</td>\n",
       "      <td>5.668353e+06</td>\n",
       "      <td>8.360106</td>\n",
       "      <td>4.565276e-07</td>\n",
       "    </tr>\n",
       "    <tr>\n",
       "      <th>1</th>\n",
       "      <td>Dublin Array</td>\n",
       "      <td>9.9</td>\n",
       "      <td>10.6</td>\n",
       "      <td>10.292857</td>\n",
       "      <td>1.9</td>\n",
       "      <td>2.0</td>\n",
       "      <td>1.95</td>\n",
       "      <td>824</td>\n",
       "      <td>54</td>\n",
       "      <td>3.471511e+06</td>\n",
       "      <td>8.154141</td>\n",
       "      <td>4.675453e-07</td>\n",
       "    </tr>\n",
       "    <tr>\n",
       "      <th>2</th>\n",
       "      <td>North Irish Sea Array (NISA)</td>\n",
       "      <td>10.4</td>\n",
       "      <td>11.1</td>\n",
       "      <td>10.806250</td>\n",
       "      <td>2.1</td>\n",
       "      <td>2.2</td>\n",
       "      <td>2.12</td>\n",
       "      <td>500</td>\n",
       "      <td>33</td>\n",
       "      <td>2.291175e+06</td>\n",
       "      <td>8.806387</td>\n",
       "      <td>4.437917e-07</td>\n",
       "    </tr>\n",
       "  </tbody>\n",
       "</table>\n",
       "</div>"
      ],
      "text/plain": [
       "                           Name  (c, min)  (c, max)  (c, mean)  (k, min)  \\\n",
       "0             Codling Wind Park      10.3      10.8  10.550000       1.9   \n",
       "1                  Dublin Array       9.9      10.6  10.292857       1.9   \n",
       "2  North Irish Sea Array (NISA)      10.4      11.1  10.806250       2.1   \n",
       "\n",
       "   (k, max)  (k, mean)  capacity  n_turbines           AEP  integral  \\\n",
       "0       2.0       1.95      1300          86  5.668353e+06  8.360106   \n",
       "1       2.0       1.95       824          54  3.471511e+06  8.154141   \n",
       "2       2.2       2.12       500          33  2.291175e+06  8.806387   \n",
       "\n",
       "         abserr  \n",
       "0  4.565276e-07  \n",
       "1  4.675453e-07  \n",
       "2  4.437917e-07  "
      ]
     },
     "execution_count": 16,
     "metadata": {},
     "output_type": "execute_result"
    }
   ],
   "source": [
    "aep"
   ]
  },
  {
   "cell_type": "markdown",
   "metadata": {},
   "source": [
    "## Annual hydrogen production [kg]"
   ]
  },
  {
   "cell_type": "code",
   "execution_count": 12,
   "metadata": {},
   "outputs": [],
   "source": [
    "aep[\"AHP\"] = opt.annual_hydrogen_production(aep=aep[\"AEP\"])"
   ]
  },
  {
   "cell_type": "code",
   "execution_count": 18,
   "metadata": {},
   "outputs": [
    {
     "data": {
      "text/html": [
       "<div>\n",
       "<style scoped>\n",
       "    .dataframe tbody tr th:only-of-type {\n",
       "        vertical-align: middle;\n",
       "    }\n",
       "\n",
       "    .dataframe tbody tr th {\n",
       "        vertical-align: top;\n",
       "    }\n",
       "\n",
       "    .dataframe thead th {\n",
       "        text-align: right;\n",
       "    }\n",
       "</style>\n",
       "<table border=\"1\" class=\"dataframe\">\n",
       "  <thead>\n",
       "    <tr style=\"text-align: right;\">\n",
       "      <th></th>\n",
       "      <th>Name</th>\n",
       "      <th>(c, min)</th>\n",
       "      <th>(c, max)</th>\n",
       "      <th>(c, mean)</th>\n",
       "      <th>(k, min)</th>\n",
       "      <th>(k, max)</th>\n",
       "      <th>(k, mean)</th>\n",
       "      <th>capacity</th>\n",
       "      <th>n_turbines</th>\n",
       "      <th>AEP</th>\n",
       "      <th>integral</th>\n",
       "      <th>abserr</th>\n",
       "      <th>AHP</th>\n",
       "    </tr>\n",
       "  </thead>\n",
       "  <tbody>\n",
       "    <tr>\n",
       "      <th>0</th>\n",
       "      <td>Codling Wind Park</td>\n",
       "      <td>10.3</td>\n",
       "      <td>10.8</td>\n",
       "      <td>10.550000</td>\n",
       "      <td>1.9</td>\n",
       "      <td>2.0</td>\n",
       "      <td>1.95</td>\n",
       "      <td>1300</td>\n",
       "      <td>86</td>\n",
       "      <td>5.668353e+06</td>\n",
       "      <td>8.360106</td>\n",
       "      <td>4.565276e-07</td>\n",
       "      <td>9.985922e+07</td>\n",
       "    </tr>\n",
       "    <tr>\n",
       "      <th>1</th>\n",
       "      <td>Dublin Array</td>\n",
       "      <td>9.9</td>\n",
       "      <td>10.6</td>\n",
       "      <td>10.292857</td>\n",
       "      <td>1.9</td>\n",
       "      <td>2.0</td>\n",
       "      <td>1.95</td>\n",
       "      <td>824</td>\n",
       "      <td>54</td>\n",
       "      <td>3.471511e+06</td>\n",
       "      <td>8.154141</td>\n",
       "      <td>4.675453e-07</td>\n",
       "      <td>6.115752e+07</td>\n",
       "    </tr>\n",
       "    <tr>\n",
       "      <th>2</th>\n",
       "      <td>North Irish Sea Array (NISA)</td>\n",
       "      <td>10.4</td>\n",
       "      <td>11.1</td>\n",
       "      <td>10.806250</td>\n",
       "      <td>2.1</td>\n",
       "      <td>2.2</td>\n",
       "      <td>2.12</td>\n",
       "      <td>500</td>\n",
       "      <td>33</td>\n",
       "      <td>2.291175e+06</td>\n",
       "      <td>8.806387</td>\n",
       "      <td>4.437917e-07</td>\n",
       "      <td>4.036357e+07</td>\n",
       "    </tr>\n",
       "  </tbody>\n",
       "</table>\n",
       "</div>"
      ],
      "text/plain": [
       "                           Name  (c, min)  (c, max)  (c, mean)  (k, min)  \\\n",
       "0             Codling Wind Park      10.3      10.8  10.550000       1.9   \n",
       "1                  Dublin Array       9.9      10.6  10.292857       1.9   \n",
       "2  North Irish Sea Array (NISA)      10.4      11.1  10.806250       2.1   \n",
       "\n",
       "   (k, max)  (k, mean)  capacity  n_turbines           AEP  integral  \\\n",
       "0       2.0       1.95      1300          86  5.668353e+06  8.360106   \n",
       "1       2.0       1.95       824          54  3.471511e+06  8.154141   \n",
       "2       2.2       2.12       500          33  2.291175e+06  8.806387   \n",
       "\n",
       "         abserr           AHP  \n",
       "0  4.565276e-07  9.985922e+07  \n",
       "1  4.675453e-07  6.115752e+07  \n",
       "2  4.437917e-07  4.036357e+07  "
      ]
     },
     "execution_count": 18,
     "metadata": {},
     "output_type": "execute_result"
    }
   ],
   "source": [
    "aep"
   ]
  },
  {
   "cell_type": "markdown",
   "metadata": {},
   "source": [
    "## CAPEX for pipeline [€ km⁻¹]"
   ]
  },
  {
   "cell_type": "code",
   "execution_count": 13,
   "metadata": {},
   "outputs": [],
   "source": [
    "# 1,000 MW electrolyser\n",
    "capex = opt.capex_pipeline(e_cap=1000)"
   ]
  },
  {
   "cell_type": "code",
   "execution_count": 20,
   "metadata": {},
   "outputs": [
    {
     "data": {
      "text/plain": [
       "1414063.9561690202"
      ]
     },
     "execution_count": 20,
     "metadata": {},
     "output_type": "execute_result"
    }
   ],
   "source": [
    "capex"
   ]
  },
  {
   "cell_type": "markdown",
   "metadata": {},
   "source": [
    "## LCOH for pipeline [€ kg⁻¹]"
   ]
  },
  {
   "cell_type": "code",
   "execution_count": 14,
   "metadata": {},
   "outputs": [],
   "source": [
    "aep[\"LCOH\"] = opt.lcot_pipeline(\n",
    "    capex=capex, transmission_distance=100, ahp=aep[\"AHP\"]\n",
    ")"
   ]
  },
  {
   "cell_type": "code",
   "execution_count": 15,
   "metadata": {},
   "outputs": [
    {
     "data": {
      "text/html": [
       "<div>\n",
       "<style scoped>\n",
       "    .dataframe tbody tr th:only-of-type {\n",
       "        vertical-align: middle;\n",
       "    }\n",
       "\n",
       "    .dataframe tbody tr th {\n",
       "        vertical-align: top;\n",
       "    }\n",
       "\n",
       "    .dataframe thead th {\n",
       "        text-align: right;\n",
       "    }\n",
       "</style>\n",
       "<table border=\"1\" class=\"dataframe\">\n",
       "  <thead>\n",
       "    <tr style=\"text-align: right;\">\n",
       "      <th></th>\n",
       "      <th>Name</th>\n",
       "      <th>(c, min)</th>\n",
       "      <th>(c, max)</th>\n",
       "      <th>(c, mean)</th>\n",
       "      <th>(k, min)</th>\n",
       "      <th>(k, max)</th>\n",
       "      <th>(k, mean)</th>\n",
       "      <th>capacity</th>\n",
       "      <th>n_turbines</th>\n",
       "      <th>AEP</th>\n",
       "      <th>integral</th>\n",
       "      <th>abserr</th>\n",
       "      <th>AHP</th>\n",
       "      <th>LCOH</th>\n",
       "    </tr>\n",
       "  </thead>\n",
       "  <tbody>\n",
       "    <tr>\n",
       "      <th>0</th>\n",
       "      <td>Codling Wind Park</td>\n",
       "      <td>10.3</td>\n",
       "      <td>10.8</td>\n",
       "      <td>10.550000</td>\n",
       "      <td>1.9</td>\n",
       "      <td>2.0</td>\n",
       "      <td>1.95</td>\n",
       "      <td>1300</td>\n",
       "      <td>86</td>\n",
       "      <td>5.668353e+06</td>\n",
       "      <td>8.360106</td>\n",
       "      <td>4.565276e-07</td>\n",
       "      <td>9.985922e+07</td>\n",
       "      <td>0.115806</td>\n",
       "    </tr>\n",
       "    <tr>\n",
       "      <th>1</th>\n",
       "      <td>Dublin Array</td>\n",
       "      <td>9.9</td>\n",
       "      <td>10.6</td>\n",
       "      <td>10.292857</td>\n",
       "      <td>1.9</td>\n",
       "      <td>2.0</td>\n",
       "      <td>1.95</td>\n",
       "      <td>824</td>\n",
       "      <td>54</td>\n",
       "      <td>3.471511e+06</td>\n",
       "      <td>8.154141</td>\n",
       "      <td>4.675453e-07</td>\n",
       "      <td>6.115752e+07</td>\n",
       "      <td>0.189091</td>\n",
       "    </tr>\n",
       "    <tr>\n",
       "      <th>2</th>\n",
       "      <td>North Irish Sea Array (NISA)</td>\n",
       "      <td>10.4</td>\n",
       "      <td>11.1</td>\n",
       "      <td>10.806250</td>\n",
       "      <td>2.1</td>\n",
       "      <td>2.2</td>\n",
       "      <td>2.12</td>\n",
       "      <td>500</td>\n",
       "      <td>33</td>\n",
       "      <td>2.291175e+06</td>\n",
       "      <td>8.806387</td>\n",
       "      <td>4.437917e-07</td>\n",
       "      <td>4.036357e+07</td>\n",
       "      <td>0.286504</td>\n",
       "    </tr>\n",
       "  </tbody>\n",
       "</table>\n",
       "</div>"
      ],
      "text/plain": [
       "                           Name  (c, min)  (c, max)  (c, mean)  (k, min)  \\\n",
       "0             Codling Wind Park      10.3      10.8  10.550000       1.9   \n",
       "1                  Dublin Array       9.9      10.6  10.292857       1.9   \n",
       "2  North Irish Sea Array (NISA)      10.4      11.1  10.806250       2.1   \n",
       "\n",
       "   (k, max)  (k, mean)  capacity  n_turbines           AEP  integral  \\\n",
       "0       2.0       1.95      1300          86  5.668353e+06  8.360106   \n",
       "1       2.0       1.95       824          54  3.471511e+06  8.154141   \n",
       "2       2.2       2.12       500          33  2.291175e+06  8.806387   \n",
       "\n",
       "         abserr           AHP      LCOH  \n",
       "0  4.565276e-07  9.985922e+07  0.115806  \n",
       "1  4.675453e-07  6.115752e+07  0.189091  \n",
       "2  4.437917e-07  4.036357e+07  0.286504  "
      ]
     },
     "execution_count": 15,
     "metadata": {},
     "output_type": "execute_result"
    }
   ],
   "source": [
    "aep"
   ]
  }
 ],
 "metadata": {
  "kernelspec": {
   "display_name": ".venv",
   "language": "python",
   "name": "python3"
  },
  "language_info": {
   "codemirror_mode": {
    "name": "ipython",
    "version": 3
   },
   "file_extension": ".py",
   "mimetype": "text/x-python",
   "name": "python",
   "nbconvert_exporter": "python",
   "pygments_lexer": "ipython3",
   "version": "3.11.6"
  }
 },
 "nbformat": 4,
 "nbformat_minor": 2
}
